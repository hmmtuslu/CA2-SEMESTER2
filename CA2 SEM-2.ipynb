{
 "cells": [
  {
   "cell_type": "code",
   "execution_count": 1,
   "id": "b9175964",
   "metadata": {},
   "outputs": [
    {
     "name": "stderr",
     "output_type": "stream",
     "text": [
      "                                                                                \r"
     ]
    }
   ],
   "source": [
    "from pyspark.sql import SparkSession\n",
    "\n",
    "\n",
    "spark = SparkSession.builder.appName(\"upload_data\").getOrCreate()\n",
    "\n",
    "\n",
    "df = spark.read.csv(\"/ProjectTweets.csv\", header=True, inferSchema=True)\n",
    "\n"
   ]
  },
  {
   "cell_type": "code",
   "execution_count": 2,
   "id": "4642809d",
   "metadata": {
    "scrolled": true
   },
   "outputs": [
    {
     "name": "stderr",
     "output_type": "stream",
     "text": [
      "\r",
      "[Stage 2:>                                                          (0 + 1) / 1]\r"
     ]
    },
    {
     "name": "stdout",
     "output_type": "stream",
     "text": [
      "+---+----------+----------------------------+--------+---------------+-------------------------------------------------------------------------------------------------------------------+\n",
      "|  0|1467810369|Mon Apr 06 22:19:45 PDT 2009|NO_QUERY|_TheSpecialOne_|@switchfoot http://twitpic.com/2y1zl - Awww, that's a bummer.  You shoulda got David Carr of Third Day to do it. ;D|\n",
      "+---+----------+----------------------------+--------+---------------+-------------------------------------------------------------------------------------------------------------------+\n",
      "|  1|1467810672|        Mon Apr 06 22:19:...|NO_QUERY|  scotthamilton|                                                                                               is upset that he ...|\n",
      "|  2|1467810917|        Mon Apr 06 22:19:...|NO_QUERY|       mattycus|                                                                                               @Kenichan I dived...|\n",
      "|  3|1467811184|        Mon Apr 06 22:19:...|NO_QUERY|        ElleCTF|                                                                                               my whole body fee...|\n",
      "|  4|1467811193|        Mon Apr 06 22:19:...|NO_QUERY|         Karoli|                                                                                               @nationwideclass ...|\n",
      "|  5|1467811372|        Mon Apr 06 22:20:...|NO_QUERY|       joy_wolf|                                                                                               @Kwesidei not the...|\n",
      "|  6|1467811592|        Mon Apr 06 22:20:...|NO_QUERY|        mybirch|                                                                                                        Need a hug |\n",
      "|  7|1467811594|        Mon Apr 06 22:20:...|NO_QUERY|           coZZ|                                                                                               @LOLTrish hey  lo...|\n",
      "|  8|1467811795|        Mon Apr 06 22:20:...|NO_QUERY|2Hood4Hollywood|                                                                                               @Tatiana_K nope t...|\n",
      "|  9|1467812025|        Mon Apr 06 22:20:...|NO_QUERY|        mimismo|                                                                                               @twittera que me ...|\n",
      "| 10|1467812416|        Mon Apr 06 22:20:...|NO_QUERY| erinx3leannexo|                                                                                               spring break in p...|\n",
      "| 11|1467812579|        Mon Apr 06 22:20:...|NO_QUERY|   pardonlauren|                                                                                               I just re-pierced...|\n",
      "| 12|1467812723|        Mon Apr 06 22:20:...|NO_QUERY|           TLeC|                                                                                               @caregiving I cou...|\n",
      "| 13|1467812771|        Mon Apr 06 22:20:...|NO_QUERY|robrobbierobert|                                                                                               @octolinz16 It it...|\n",
      "| 14|1467812784|        Mon Apr 06 22:20:...|NO_QUERY|    bayofwolves|                                                                                               @smarrison i woul...|\n",
      "| 15|1467812799|        Mon Apr 06 22:20:...|NO_QUERY|     HairByJess|                                                                                               @iamjazzyfizzle I...|\n",
      "| 16|1467812964|        Mon Apr 06 22:20:...|NO_QUERY| lovesongwriter|                                                                                               Hollis' death sce...|\n",
      "| 17|1467813137|        Mon Apr 06 22:20:...|NO_QUERY|       armotley|                                                                                               about to file taxes |\n",
      "| 18|1467813579|        Mon Apr 06 22:20:...|NO_QUERY|     starkissed|                                                                                               @LettyA ahh ive a...|\n",
      "| 19|1467813782|        Mon Apr 06 22:20:...|NO_QUERY|      gi_gi_bee|                                                                                               @FakerPattyPattz ...|\n",
      "| 20|1467813985|        Mon Apr 06 22:20:...|NO_QUERY|         quanvu|                                                                                               @alydesigns i was...|\n",
      "+---+----------+----------------------------+--------+---------------+-------------------------------------------------------------------------------------------------------------------+\n",
      "only showing top 20 rows\n",
      "\n"
     ]
    },
    {
     "name": "stderr",
     "output_type": "stream",
     "text": [
      "\r",
      "                                                                                \r"
     ]
    }
   ],
   "source": [
    "\n",
    "df.show()"
   ]
  },
  {
   "cell_type": "code",
   "execution_count": 3,
   "id": "3b60acc1",
   "metadata": {},
   "outputs": [
    {
     "name": "stdout",
     "output_type": "stream",
     "text": [
      "+------+----------+--------------------+--------+---------------+--------------------+\n",
      "|number|        id|                date|   query|       username|                text|\n",
      "+------+----------+--------------------+--------+---------------+--------------------+\n",
      "|     1|1467810672|Mon Apr 06 22:19:...|NO_QUERY|  scotthamilton|is upset that he ...|\n",
      "|     2|1467810917|Mon Apr 06 22:19:...|NO_QUERY|       mattycus|@Kenichan I dived...|\n",
      "|     3|1467811184|Mon Apr 06 22:19:...|NO_QUERY|        ElleCTF|my whole body fee...|\n",
      "|     4|1467811193|Mon Apr 06 22:19:...|NO_QUERY|         Karoli|@nationwideclass ...|\n",
      "|     5|1467811372|Mon Apr 06 22:20:...|NO_QUERY|       joy_wolf|@Kwesidei not the...|\n",
      "|     6|1467811592|Mon Apr 06 22:20:...|NO_QUERY|        mybirch|         Need a hug |\n",
      "|     7|1467811594|Mon Apr 06 22:20:...|NO_QUERY|           coZZ|@LOLTrish hey  lo...|\n",
      "|     8|1467811795|Mon Apr 06 22:20:...|NO_QUERY|2Hood4Hollywood|@Tatiana_K nope t...|\n",
      "|     9|1467812025|Mon Apr 06 22:20:...|NO_QUERY|        mimismo|@twittera que me ...|\n",
      "|    10|1467812416|Mon Apr 06 22:20:...|NO_QUERY| erinx3leannexo|spring break in p...|\n",
      "|    11|1467812579|Mon Apr 06 22:20:...|NO_QUERY|   pardonlauren|I just re-pierced...|\n",
      "|    12|1467812723|Mon Apr 06 22:20:...|NO_QUERY|           TLeC|@caregiving I cou...|\n",
      "|    13|1467812771|Mon Apr 06 22:20:...|NO_QUERY|robrobbierobert|@octolinz16 It it...|\n",
      "|    14|1467812784|Mon Apr 06 22:20:...|NO_QUERY|    bayofwolves|@smarrison i woul...|\n",
      "|    15|1467812799|Mon Apr 06 22:20:...|NO_QUERY|     HairByJess|@iamjazzyfizzle I...|\n",
      "|    16|1467812964|Mon Apr 06 22:20:...|NO_QUERY| lovesongwriter|Hollis' death sce...|\n",
      "|    17|1467813137|Mon Apr 06 22:20:...|NO_QUERY|       armotley|about to file taxes |\n",
      "|    18|1467813579|Mon Apr 06 22:20:...|NO_QUERY|     starkissed|@LettyA ahh ive a...|\n",
      "|    19|1467813782|Mon Apr 06 22:20:...|NO_QUERY|      gi_gi_bee|@FakerPattyPattz ...|\n",
      "|    20|1467813985|Mon Apr 06 22:20:...|NO_QUERY|         quanvu|@alydesigns i was...|\n",
      "+------+----------+--------------------+--------+---------------+--------------------+\n",
      "only showing top 20 rows\n",
      "\n"
     ]
    }
   ],
   "source": [
    "from pyspark.sql import SparkSession\n",
    "from pyspark.sql.functions import lit\n",
    "\n",
    "# Spark session start\n",
    "spark = SparkSession.builder.appName(\"AddHeaderToDataFrame\").getOrCreate()\n",
    "\n",
    "columns = [\"number\", \"id\", \"date\", \"query\", \"username\", \"text\"]\n",
    "\n",
    "\n",
    "\n",
    "# Header row\n",
    "header = (\"number\", \"id\", \"date\", \"query\", \"username\", \"text\")\n",
    "\n",
    "# Adding header row\n",
    "df = df.toDF(*header)\n",
    "\n",
    "\n",
    "df.show()"
   ]
  },
  {
   "cell_type": "code",
   "execution_count": 4,
   "id": "5a2b120a",
   "metadata": {
    "scrolled": true
   },
   "outputs": [
    {
     "name": "stdout",
     "output_type": "stream",
     "text": [
      "root\n",
      " |-- number: integer (nullable = true)\n",
      " |-- id: long (nullable = true)\n",
      " |-- date: string (nullable = true)\n",
      " |-- query: string (nullable = true)\n",
      " |-- username: string (nullable = true)\n",
      " |-- text: string (nullable = true)\n",
      "\n"
     ]
    }
   ],
   "source": [
    "\n",
    "df.printSchema()\n",
    "\n"
   ]
  },
  {
   "cell_type": "code",
   "execution_count": 5,
   "id": "e34878a5",
   "metadata": {},
   "outputs": [
    {
     "name": "stderr",
     "output_type": "stream",
     "text": [
      "[Stage 4:========================>                                 (6 + 8) / 14]\r"
     ]
    },
    {
     "name": "stdout",
     "output_type": "stream",
     "text": [
      "There are 1599999 rows and  6 columns in the dataset.\n"
     ]
    },
    {
     "name": "stderr",
     "output_type": "stream",
     "text": [
      "\r",
      "                                                                                \r"
     ]
    }
   ],
   "source": [
    "print(f\"There are {df.count()} rows and  {len(df.columns)} columns in the dataset.\")"
   ]
  },
  {
   "cell_type": "code",
   "execution_count": 7,
   "id": "fa2107aa",
   "metadata": {},
   "outputs": [
    {
     "name": "stderr",
     "output_type": "stream",
     "text": [
      "                                                                                \r"
     ]
    },
    {
     "data": {
      "text/html": [
       "<div>\n",
       "<style scoped>\n",
       "    .dataframe tbody tr th:only-of-type {\n",
       "        vertical-align: middle;\n",
       "    }\n",
       "\n",
       "    .dataframe tbody tr th {\n",
       "        vertical-align: top;\n",
       "    }\n",
       "\n",
       "    .dataframe thead th {\n",
       "        text-align: right;\n",
       "    }\n",
       "</style>\n",
       "<table border=\"1\" class=\"dataframe\">\n",
       "  <thead>\n",
       "    <tr style=\"text-align: right;\">\n",
       "      <th></th>\n",
       "      <th>number</th>\n",
       "      <th>id</th>\n",
       "      <th>date</th>\n",
       "      <th>query</th>\n",
       "      <th>username</th>\n",
       "      <th>text</th>\n",
       "    </tr>\n",
       "  </thead>\n",
       "  <tbody>\n",
       "    <tr>\n",
       "      <th>0</th>\n",
       "      <td>0</td>\n",
       "      <td>0</td>\n",
       "      <td>0</td>\n",
       "      <td>0</td>\n",
       "      <td>0</td>\n",
       "      <td>0</td>\n",
       "    </tr>\n",
       "  </tbody>\n",
       "</table>\n",
       "</div>"
      ],
      "text/plain": [
       "   number  id  date  query  username  text\n",
       "0       0   0     0      0         0     0"
      ]
     },
     "execution_count": 7,
     "metadata": {},
     "output_type": "execute_result"
    }
   ],
   "source": [
    "# Missing values check\n",
    "\n",
    "from pyspark.sql import functions as func\n",
    "\n",
    "df.select([func.count(func.when(func.isnan(c),c)).alias(c) for c in df.columns]).toPandas().head()"
   ]
  },
  {
   "cell_type": "code",
   "execution_count": 8,
   "id": "03ad95ce",
   "metadata": {},
   "outputs": [
    {
     "name": "stderr",
     "output_type": "stream",
     "text": [
      "[Stage 12:==========================>                              (7 + 8) / 15]\r"
     ]
    },
    {
     "name": "stdout",
     "output_type": "stream",
     "text": [
      "Number of rows in the dataframe after dropping the duplicates: 1599999\n"
     ]
    },
    {
     "name": "stderr",
     "output_type": "stream",
     "text": [
      "\r",
      "                                                                                \r"
     ]
    }
   ],
   "source": [
    "# Duplicates check\n",
    "\n",
    "df = df.dropDuplicates()\n",
    "print(f\"Number of rows in the dataframe after dropping the duplicates: {df.count()}\")"
   ]
  },
  {
   "cell_type": "code",
   "execution_count": 9,
   "id": "d5ba2129",
   "metadata": {},
   "outputs": [
    {
     "data": {
      "text/plain": [
       "[('number', 'int'),\n",
       " ('id', 'bigint'),\n",
       " ('date', 'string'),\n",
       " ('query', 'string'),\n",
       " ('username', 'string'),\n",
       " ('text', 'string')]"
      ]
     },
     "execution_count": 9,
     "metadata": {},
     "output_type": "execute_result"
    }
   ],
   "source": [
    "#  Column types\n",
    "\n",
    "df.dtypes\n"
   ]
  },
  {
   "cell_type": "code",
   "execution_count": 10,
   "id": "24f91deb",
   "metadata": {},
   "outputs": [],
   "source": [
    "drop_cols= (\"id\",\"query\",\"username\")\n",
    "df = df.drop(*drop_cols)"
   ]
  },
  {
   "cell_type": "code",
   "execution_count": 11,
   "id": "aebca1b6",
   "metadata": {},
   "outputs": [
    {
     "name": "stdout",
     "output_type": "stream",
     "text": [
      "root\n",
      " |-- number: integer (nullable = true)\n",
      " |-- date: string (nullable = true)\n",
      " |-- text: string (nullable = true)\n",
      "\n"
     ]
    }
   ],
   "source": [
    "df.printSchema()\n"
   ]
  },
  {
   "cell_type": "code",
   "execution_count": 13,
   "id": "3e7554da",
   "metadata": {},
   "outputs": [
    {
     "name": "stderr",
     "output_type": "stream",
     "text": [
      "[Stage 19:============================>                            (7 + 7) / 14]\r"
     ]
    },
    {
     "name": "stdout",
     "output_type": "stream",
     "text": [
      "+------+----------------------------+---------------------------------------------------------------------------------------------------------------------------------------------+\n",
      "|number|date                        |text                                                                                                                                         |\n",
      "+------+----------------------------+---------------------------------------------------------------------------------------------------------------------------------------------+\n",
      "|179   |Mon Apr 06 22:31:57 PDT 2009|Staying at a friends house...house sitting, neighbors are SO loud-having a party                                                             |\n",
      "|668   |Mon Apr 06 23:06:23 PDT 2009|i dont want to believe what im reading...buu,so sad                                                                                          |\n",
      "|747   |Mon Apr 06 23:11:06 PDT 2009|Have an invite for &quot;Healthy Dining&quot; session at Ashok Hotel today with Exec Chef R.Chopra but damn workload - will have to skip it! |\n",
      "|1175  |Mon Apr 06 23:42:58 PDT 2009|@amyserrata he wrote most of the album, but ironically, the singles he did not write                                                         |\n",
      "|1251  |Mon Apr 06 23:47:50 PDT 2009|@aniita_0517 Yes i did. That's a sad topic for me! haha... I am not going to the concert... It's very far and probably very expensive        |\n",
      "+------+----------------------------+---------------------------------------------------------------------------------------------------------------------------------------------+\n",
      "only showing top 5 rows\n",
      "\n"
     ]
    },
    {
     "name": "stderr",
     "output_type": "stream",
     "text": [
      "\r",
      "                                                                                \r"
     ]
    }
   ],
   "source": [
    "df.show(5, truncate = False)"
   ]
  },
  {
   "cell_type": "code",
   "execution_count": 14,
   "id": "5dcfd61f",
   "metadata": {},
   "outputs": [
    {
     "name": "stderr",
     "output_type": "stream",
     "text": [
      "[Stage 24:==============>                                         (4 + 11) / 15]\r"
     ]
    },
    {
     "name": "stdout",
     "output_type": "stream",
     "text": [
      "There are 1599999 rows and  3 columns in the dataset.\n"
     ]
    },
    {
     "name": "stderr",
     "output_type": "stream",
     "text": [
      "\r",
      "                                                                                \r"
     ]
    }
   ],
   "source": [
    "print(f\"There are {df.count()} rows and  {len(df.columns)} columns in the dataset.\")"
   ]
  },
  {
   "cell_type": "code",
   "execution_count": 20,
   "id": "d2d6b458",
   "metadata": {},
   "outputs": [],
   "source": [
    "import nltk\n",
    "from nltk.corpus import stopwords\n",
    "from  nltk.stem import SnowballStemmer\n",
    "import re"
   ]
  },
  {
   "cell_type": "code",
   "execution_count": 21,
   "id": "dbee9ac1",
   "metadata": {},
   "outputs": [
    {
     "name": "stderr",
     "output_type": "stream",
     "text": [
      "[nltk_data] Downloading package stopwords to /home/hduser/nltk_data...\n",
      "[nltk_data]   Unzipping corpora/stopwords.zip.\n"
     ]
    }
   ],
   "source": [
    "nltk.download('stopwords')\n",
    "stop_words = stopwords.words(\"english\")\n",
    "stemmer = SnowballStemmer(\"english\")\n",
    "text_cleaning_re = \"@\\S+|https?:\\S+|http?:\\S|[^A-Za-z0-9]+\""
   ]
  },
  {
   "cell_type": "code",
   "execution_count": 22,
   "id": "8168fdf4",
   "metadata": {},
   "outputs": [],
   "source": [
    "def preprocess(text, stem=False):\n",
    "    # Remove link,user and special characters\n",
    "    text = re.sub(text_cleaning_re, ' ', str(text).lower()).strip()\n",
    "    tokens = []\n",
    "    for token in text.split():\n",
    "        if token not in stop_words:\n",
    "            if stem:\n",
    "                tokens.append(stemmer.stem(token))\n",
    "            else:\n",
    "                tokens.append(token)\n",
    "    return \" \".join(tokens)"
   ]
  },
  {
   "cell_type": "code",
   "execution_count": 25,
   "id": "495c0b04",
   "metadata": {},
   "outputs": [
    {
     "name": "stdout",
     "output_type": "stream",
     "text": [
      "CPU times: user 0 ns, sys: 1 µs, total: 1 µs\n",
      "Wall time: 2.62 µs\n"
     ]
    }
   ],
   "source": [
    "from pyspark.sql.types import StringType,FloatType\n",
    "\n",
    "%time\n",
    "clean_text = func.udf(lambda x: preprocess(x), StringType())\n",
    "df = df.withColumn('text_cleaned',clean_text(func.col(\"text\")))"
   ]
  },
  {
   "cell_type": "code",
   "execution_count": 26,
   "id": "4db9e245",
   "metadata": {},
   "outputs": [
    {
     "name": "stderr",
     "output_type": "stream",
     "text": [
      "[Stage 30:>                                                         (0 + 1) / 1]\r"
     ]
    },
    {
     "name": "stdout",
     "output_type": "stream",
     "text": [
      "+------+--------------------+--------------------+--------------------+\n",
      "|number|                date|                text|        text_cleaned|\n",
      "+------+--------------------+--------------------+--------------------+\n",
      "|   179|Mon Apr 06 22:31:...|Staying at a frie...|staying friends h...|\n",
      "|   668|Mon Apr 06 23:06:...|i dont want to be...|dont want believe...|\n",
      "|   747|Mon Apr 06 23:11:...|Have an invite fo...|invite quot healt...|\n",
      "|  1175|Mon Apr 06 23:42:...|@amyserrata he wr...|wrote album ironi...|\n",
      "|  1251|Mon Apr 06 23:47:...|@aniita_0517 Yes ...|yes sad topic hah...|\n",
      "|  1289|Mon Apr 06 23:50:...|@heatherlibby  Oh...|oh well seems lik...|\n",
      "|  1438|Tue Apr 07 00:01:...|Oh, and it's offi...|oh officially bir...|\n",
      "|  1919|Tue Apr 07 00:36:...|my facebook is Fu...|     facebook fucked|\n",
      "|  2582|Tue Apr 07 01:28:...|          need hugs |           need hugs|\n",
      "|  2613|Tue Apr 07 01:31:...|is supposed to wo...|supposed work uni...|\n",
      "|  2800|Tue Apr 07 01:46:...|@ThomasGudgeon We...|well yes shame ge...|\n",
      "|  3568|Tue Apr 07 02:48:...|@alessandrod sadn...|sadness please ke...|\n",
      "|  3621|Tue Apr 07 02:52:...|so tomorrow/today...|tomorrow today fi...|\n",
      "|  3943|Tue Apr 07 03:17:...|wish i was going ...|wish going melbou...|\n",
      "|  4338|Tue Apr 07 03:46:...|one of my teacher...|one teachers died...|\n",
      "|  4512|Tue Apr 07 04:00:...|Watched a movie.....|watched movie fee...|\n",
      "|  4784|Tue Apr 07 04:21:...|Shame processing ...|shame processing ...|\n",
      "|  4839|Tue Apr 07 04:24:...|@seishinseii Tell...|tell hence hate s...|\n",
      "|  5048|Tue Apr 07 04:39:...|&quot;April SNOW ...|quot april snow s...|\n",
      "|  5121|Tue Apr 07 04:46:...|Mornin twitterlin...|mornin twitterlin...|\n",
      "+------+--------------------+--------------------+--------------------+\n",
      "only showing top 20 rows\n",
      "\n"
     ]
    },
    {
     "name": "stderr",
     "output_type": "stream",
     "text": [
      "\r",
      "                                                                                \r"
     ]
    }
   ],
   "source": [
    "df.show()\n"
   ]
  },
  {
   "cell_type": "code",
   "execution_count": 27,
   "id": "0ee373bc",
   "metadata": {},
   "outputs": [],
   "source": [
    "df = df.drop(\"text\")\n"
   ]
  },
  {
   "cell_type": "code",
   "execution_count": 29,
   "id": "4a91b45c",
   "metadata": {},
   "outputs": [],
   "source": [
    "import matplotlib.pyplot as plt\n",
    "from wordcloud import WordCloud\n",
    "\n"
   ]
  },
  {
   "cell_type": "code",
   "execution_count": 43,
   "id": "ba9ad6f4",
   "metadata": {},
   "outputs": [
    {
     "name": "stderr",
     "output_type": "stream",
     "text": [
      "2023-10-31 00:22:52,216 WARN window.WindowExec: No Partition Defined for Window operation! Moving all data to a single partition, this can cause serious performance degradation.\n",
      "2023-10-31 00:22:52,218 WARN window.WindowExec: No Partition Defined for Window operation! Moving all data to a single partition, this can cause serious performance degradation.\n",
      "2023-10-31 00:23:02,753 WARN window.WindowExec: No Partition Defined for Window operation! Moving all data to a single partition, this can cause serious performance degradation.\n",
      "2023-10-31 00:23:02,754 WARN window.WindowExec: No Partition Defined for Window operation! Moving all data to a single partition, this can cause serious performance degradation.\n",
      "[Stage 57:====================================================>   (14 + 1) / 15]\r"
     ]
    },
    {
     "name": "stdout",
     "output_type": "stream",
     "text": [
      "+------+--------------------+--------------------+----------+\n",
      "|number|                date|        text_cleaned|row_number|\n",
      "+------+--------------------+--------------------+----------+\n",
      "|  8575|Fri Apr 17 20:30:...|working songg aun...|         1|\n",
      "|  8576|Fri Apr 17 20:30:...|    sleep 4 30am 8am|         2|\n",
      "|  8577|Fri Apr 17 20:30:...|wishing could coa...|         3|\n",
      "|  8578|Fri Apr 17 20:30:...|well lilwo tough ...|         4|\n",
      "|  8579|Fri Apr 17 20:30:...|taking much neede...|         5|\n",
      "|  8580|Fri Apr 17 20:30:...|aww r cutest thin...|         6|\n",
      "|  8581|Fri Apr 17 20:30:...|sweet josh work t...|         7|\n",
      "|  8582|Fri Apr 17 20:30:...|boyfriend going t...|         8|\n",
      "|  8585|Fri Apr 17 20:30:...|sorry loss honey ...|         9|\n",
      "|  8584|Fri Apr 17 20:30:...|losing followers lol|        10|\n",
      "|  8586|Fri Apr 17 20:30:...|               tired|        11|\n",
      "|  8588|Fri Apr 17 20:30:...|misses updating c...|        12|\n",
      "|  8583|Fri Apr 17 20:30:...|sim see tonight e...|        13|\n",
      "|  8587|Fri Apr 17 20:30:...|could go italian ...|        14|\n",
      "|  8589|Fri Apr 17 20:30:...|getting hair done...|        15|\n",
      "|  8591|Fri Apr 17 20:30:...|andi sweetheart r...|        16|\n",
      "|  8590|Fri Apr 17 20:30:...|bored watching la...|        17|\n",
      "|  8592|Fri Apr 17 20:31:...|actually 503 mayb...|        18|\n",
      "|  8594|Fri Apr 17 20:31:...|colorado beautifu...|        19|\n",
      "|  8593|Fri Apr 17 20:31:...|         oh want one|        20|\n",
      "+------+--------------------+--------------------+----------+\n",
      "only showing top 20 rows\n",
      "\n"
     ]
    },
    {
     "name": "stderr",
     "output_type": "stream",
     "text": [
      "\r",
      "                                                                                \r"
     ]
    }
   ],
   "source": [
    "from pyspark.sql.window import Window\n",
    "from pyspark.sql import functions as F\n",
    "\n",
    "window_spec = Window.orderBy(\"date\")\n",
    "\n",
    "df = df.withColumn(\"row_number\", F.row_number().over(window_spec))\n",
    "\n",
    "df.show()\n"
   ]
  },
  {
   "cell_type": "code",
   "execution_count": 47,
   "id": "3f96c015",
   "metadata": {},
   "outputs": [
    {
     "name": "stderr",
     "output_type": "stream",
     "text": [
      "2023-10-31 00:29:28,116 WARN window.WindowExec: No Partition Defined for Window operation! Moving all data to a single partition, this can cause serious performance degradation.\n",
      "2023-10-31 00:29:28,118 WARN window.WindowExec: No Partition Defined for Window operation! Moving all data to a single partition, this can cause serious performance degradation.\n",
      "2023-10-31 00:29:37,105 WARN window.WindowExec: No Partition Defined for Window operation! Moving all data to a single partition, this can cause serious performance degradation.\n",
      "2023-10-31 00:29:50,957 WARN window.WindowExec: No Partition Defined for Window operation! Moving all data to a single partition, this can cause serious performance degradation.\n",
      "[Stage 70:>                                                         (0 + 1) / 1]\r"
     ]
    },
    {
     "name": "stdout",
     "output_type": "stream",
     "text": [
      "+------+--------------------+--------------------+----------+--------------------+-----------+------------+\n",
      "|number|                date|        text_cleaned|row_number|           sentiment|   polarity|subjectivity|\n",
      "+------+--------------------+--------------------+----------+--------------------+-----------+------------+\n",
      "|  8597|Fri Apr 17 20:31:...|haha player ladie...|        22|          {0.2, 0.3}|        0.2|         0.3|\n",
      "|  8604|Fri Apr 17 20:31:...|see really cool a...|        30|    {-0.0125, 0.575}|    -0.0125|       0.575|\n",
      "|  8614|Fri Apr 17 20:31:...|wanting work weekend|        40|          {0.0, 0.0}|        0.0|         0.0|\n",
      "|  8620|Fri Apr 17 20:31:...|unfortunately thi...|        46| {-0.18333334, 0.55}|-0.18333334|        0.55|\n",
      "|  8622|Fri Apr 17 20:31:...|totally missed re...|        47|       {0.35, 0.675}|       0.35|       0.675|\n",
      "|  8625|Fri Apr 17 20:31:...|friends talking w...|        50|         {-0.3, 0.3}|       -0.3|         0.3|\n",
      "|  8632|Fri Apr 17 20:32:...|ahh mines totally...|        58|         {0.0, 0.75}|        0.0|        0.75|\n",
      "|812118|Fri Apr 17 20:32:...|            love pic|        80|          {0.5, 0.6}|        0.5|         0.6|\n",
      "|812130|Fri Apr 17 20:32:...|missing new york ...|        87|{0.17878787, 0.48...| 0.17878787|   0.4848485|\n",
      "|812127|Fri Apr 17 20:32:...|committee secured...|        95|          {0.0, 0.0}|        0.0|         0.0|\n",
      "|812140|Fri Apr 17 20:32:...|honey finally bac...|       112|          {0.0, 0.0}|        0.0|         0.0|\n",
      "|812141|Fri Apr 17 20:32:...|came back seeing ...|       113|          {0.0, 0.0}|        0.0|         0.0|\n",
      "|  8646|Fri Apr 17 20:32:...|go tomorrrrooooow...|       168|          {0.0, 0.0}|        0.0|         0.0|\n",
      "|  8665|Fri Apr 17 20:35:...|miss yuukicherry ...|       185|   {-0.7, 0.6666667}|       -0.7|   0.6666667|\n",
      "|  8670|Fri Apr 17 20:36:...|really need find ...|       192|{0.18333334, 0.26...| 0.18333334|  0.26666668|\n",
      "|  8676|Fri Apr 17 20:36:...|    everyone leaving|       198|          {0.0, 0.0}|        0.0|         0.0|\n",
      "|  8683|Fri Apr 17 20:36:...|guys acostic perf...|       204|          {0.0, 0.0}|        0.0|         0.0|\n",
      "|  8687|Fri Apr 17 20:36:...|looking mylilmana...|       211|          {0.0, 0.0}|        0.0|         0.0|\n",
      "|812196|Fri Apr 17 20:37:...|     ok decided look|       221|          {0.5, 0.5}|        0.5|         0.5|\n",
      "|812207|Fri Apr 17 20:37:...|uploaded new prof...|       238|{0.37878788, 0.48...| 0.37878788|   0.4848485|\n",
      "+------+--------------------+--------------------+----------+--------------------+-----------+------------+\n",
      "only showing top 20 rows\n",
      "\n"
     ]
    },
    {
     "name": "stderr",
     "output_type": "stream",
     "text": [
      "\r",
      "                                                                                \r"
     ]
    }
   ],
   "source": [
    "from pyspark.sql.functions import udf\n",
    "from pyspark.sql.types import StructType, StructField, FloatType\n",
    "from textblob import TextBlob\n",
    "\n",
    "\n",
    "#  UDF (User-Defined Function) \n",
    "schema = StructType([StructField(\"polarity\", FloatType(), True), StructField(\"subjectivity\", FloatType(), True)])\n",
    "\n",
    "def calc_sentiment_udf(txt):\n",
    "    blob = TextBlob(txt)\n",
    "    return (blob.sentiment.polarity, blob.sentiment.subjectivity)\n",
    "\n",
    "sentiment_udf = udf(calc_sentiment_udf, schema)\n",
    "\n",
    "df = df.withColumn(\"sentiment\", sentiment_udf(df[\"text_cleaned\"]))\n",
    "\n",
    "df = df.withColumn(\"polarity\", df[\"sentiment.polarity\"])\n",
    "df = df.withColumn(\"subjectivity\", df[\"sentiment.subjectivity\"])\n",
    "\n",
    "df.sample(withReplacement=False, fraction=0.1).show()\n"
   ]
  },
  {
   "cell_type": "code",
   "execution_count": 48,
   "id": "1a517d85",
   "metadata": {},
   "outputs": [],
   "source": [
    "import matplotlib.pyplot as plt\n",
    "%matplotlib inline"
   ]
  },
  {
   "cell_type": "code",
   "execution_count": 50,
   "id": "9210a2a6",
   "metadata": {},
   "outputs": [
    {
     "name": "stderr",
     "output_type": "stream",
     "text": [
      "                                                                                \r"
     ]
    },
    {
     "data": {
      "image/png": "[encoded data removed]",
      "text/plain": [
       "<Figure size 432x288 with 1 Axes>"
      ]
     },
     "metadata": {
      "needs_background": "light"
     },
     "output_type": "display_data"
    }
   ],
   "source": [
    "processed_data = df.filter(df[\"polarity\"] != 0.0).select(\"polarity\").toPandas()\n",
    "\n",
    "plt.hist(processed_data[\"polarity\"], bins=50)\n",
    "plt.xlabel(\"Polarity\")\n",
    "plt.ylabel(\"Frequency\")\n",
    "plt.title(\"Histogram of Polarity (Excluding Neutral Sentiment)\")\n",
    "plt.show()"
   ]
  },
  {
   "cell_type": "code",
   "execution_count": null,
   "id": "37b9dc09",
   "metadata": {},
   "outputs": [],
   "source": []
  }
 ],
 "metadata": {
  "kernelspec": {
   "display_name": "Python 3 (ipykernel)",
   "language": "python",
   "name": "python3"
  },
  "language_info": {
   "codemirror_mode": {
    "name": "ipython",
    "version": 3
   },
   "file_extension": ".py",
   "mimetype": "text/x-python",
   "name": "python",
   "nbconvert_exporter": "python",
   "pygments_lexer": "ipython3",
   "version": "3.10.12"
  }
 },
 "nbformat": 4,
 "nbformat_minor": 5
}
