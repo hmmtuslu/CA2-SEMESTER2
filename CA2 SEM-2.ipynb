{
 "cells": [
  {
   "cell_type": "markdown",
   "id": "1db70bfb",
   "metadata": {},
   "source": [
    "## IMPORT DATASET "
   ]
  },
  {
   "cell_type": "code",
   "execution_count": 1,
   "id": "b9175964",
   "metadata": {},
   "outputs": [
    {
     "name": "stderr",
     "output_type": "stream",
     "text": [
      "                                                                                \r"
     ]
    }
   ],
   "source": [
    "from pyspark.sql import SparkSession\n",
    "\n",
    "\n",
    "spark = SparkSession.builder.appName(\"upload_data\").getOrCreate()\n",
    "\n",
    "\n",
    "df = spark.read.csv(\"/ProjectTweets.csv\", header=False, inferSchema=True)\n",
    "\n"
   ]
  },
  {
   "cell_type": "code",
   "execution_count": 2,
   "id": "4642809d",
   "metadata": {},
   "outputs": [
    {
     "name": "stdout",
     "output_type": "stream",
     "text": [
      "+---+----------+--------------------+--------+---------------+--------------------+\n",
      "|_c0|       _c1|                 _c2|     _c3|            _c4|                 _c5|\n",
      "+---+----------+--------------------+--------+---------------+--------------------+\n",
      "|  0|1467810369|Mon Apr 06 22:19:...|NO_QUERY|_TheSpecialOne_|@switchfoot http:...|\n",
      "|  1|1467810672|Mon Apr 06 22:19:...|NO_QUERY|  scotthamilton|is upset that he ...|\n",
      "|  2|1467810917|Mon Apr 06 22:19:...|NO_QUERY|       mattycus|@Kenichan I dived...|\n",
      "|  3|1467811184|Mon Apr 06 22:19:...|NO_QUERY|        ElleCTF|my whole body fee...|\n",
      "|  4|1467811193|Mon Apr 06 22:19:...|NO_QUERY|         Karoli|@nationwideclass ...|\n",
      "|  5|1467811372|Mon Apr 06 22:20:...|NO_QUERY|       joy_wolf|@Kwesidei not the...|\n",
      "|  6|1467811592|Mon Apr 06 22:20:...|NO_QUERY|        mybirch|         Need a hug |\n",
      "|  7|1467811594|Mon Apr 06 22:20:...|NO_QUERY|           coZZ|@LOLTrish hey  lo...|\n",
      "|  8|1467811795|Mon Apr 06 22:20:...|NO_QUERY|2Hood4Hollywood|@Tatiana_K nope t...|\n",
      "|  9|1467812025|Mon Apr 06 22:20:...|NO_QUERY|        mimismo|@twittera que me ...|\n",
      "| 10|1467812416|Mon Apr 06 22:20:...|NO_QUERY| erinx3leannexo|spring break in p...|\n",
      "| 11|1467812579|Mon Apr 06 22:20:...|NO_QUERY|   pardonlauren|I just re-pierced...|\n",
      "| 12|1467812723|Mon Apr 06 22:20:...|NO_QUERY|           TLeC|@caregiving I cou...|\n",
      "| 13|1467812771|Mon Apr 06 22:20:...|NO_QUERY|robrobbierobert|@octolinz16 It it...|\n",
      "| 14|1467812784|Mon Apr 06 22:20:...|NO_QUERY|    bayofwolves|@smarrison i woul...|\n",
      "| 15|1467812799|Mon Apr 06 22:20:...|NO_QUERY|     HairByJess|@iamjazzyfizzle I...|\n",
      "| 16|1467812964|Mon Apr 06 22:20:...|NO_QUERY| lovesongwriter|Hollis' death sce...|\n",
      "| 17|1467813137|Mon Apr 06 22:20:...|NO_QUERY|       armotley|about to file taxes |\n",
      "| 18|1467813579|Mon Apr 06 22:20:...|NO_QUERY|     starkissed|@LettyA ahh ive a...|\n",
      "| 19|1467813782|Mon Apr 06 22:20:...|NO_QUERY|      gi_gi_bee|@FakerPattyPattz ...|\n",
      "+---+----------+--------------------+--------+---------------+--------------------+\n",
      "only showing top 20 rows\n",
      "\n"
     ]
    }
   ],
   "source": [
    "\n",
    "df.show()"
   ]
  },
  {
   "cell_type": "code",
   "execution_count": 3,
   "id": "3b60acc1",
   "metadata": {},
   "outputs": [
    {
     "name": "stdout",
     "output_type": "stream",
     "text": [
      "+------+----------+--------------------+--------+---------------+--------------------+\n",
      "|number|        id|                date|   query|       username|                text|\n",
      "+------+----------+--------------------+--------+---------------+--------------------+\n",
      "|     0|1467810369|Mon Apr 06 22:19:...|NO_QUERY|_TheSpecialOne_|@switchfoot http:...|\n",
      "|     1|1467810672|Mon Apr 06 22:19:...|NO_QUERY|  scotthamilton|is upset that he ...|\n",
      "|     2|1467810917|Mon Apr 06 22:19:...|NO_QUERY|       mattycus|@Kenichan I dived...|\n",
      "|     3|1467811184|Mon Apr 06 22:19:...|NO_QUERY|        ElleCTF|my whole body fee...|\n",
      "|     4|1467811193|Mon Apr 06 22:19:...|NO_QUERY|         Karoli|@nationwideclass ...|\n",
      "|     5|1467811372|Mon Apr 06 22:20:...|NO_QUERY|       joy_wolf|@Kwesidei not the...|\n",
      "|     6|1467811592|Mon Apr 06 22:20:...|NO_QUERY|        mybirch|         Need a hug |\n",
      "|     7|1467811594|Mon Apr 06 22:20:...|NO_QUERY|           coZZ|@LOLTrish hey  lo...|\n",
      "|     8|1467811795|Mon Apr 06 22:20:...|NO_QUERY|2Hood4Hollywood|@Tatiana_K nope t...|\n",
      "|     9|1467812025|Mon Apr 06 22:20:...|NO_QUERY|        mimismo|@twittera que me ...|\n",
      "|    10|1467812416|Mon Apr 06 22:20:...|NO_QUERY| erinx3leannexo|spring break in p...|\n",
      "|    11|1467812579|Mon Apr 06 22:20:...|NO_QUERY|   pardonlauren|I just re-pierced...|\n",
      "|    12|1467812723|Mon Apr 06 22:20:...|NO_QUERY|           TLeC|@caregiving I cou...|\n",
      "|    13|1467812771|Mon Apr 06 22:20:...|NO_QUERY|robrobbierobert|@octolinz16 It it...|\n",
      "|    14|1467812784|Mon Apr 06 22:20:...|NO_QUERY|    bayofwolves|@smarrison i woul...|\n",
      "|    15|1467812799|Mon Apr 06 22:20:...|NO_QUERY|     HairByJess|@iamjazzyfizzle I...|\n",
      "|    16|1467812964|Mon Apr 06 22:20:...|NO_QUERY| lovesongwriter|Hollis' death sce...|\n",
      "|    17|1467813137|Mon Apr 06 22:20:...|NO_QUERY|       armotley|about to file taxes |\n",
      "|    18|1467813579|Mon Apr 06 22:20:...|NO_QUERY|     starkissed|@LettyA ahh ive a...|\n",
      "|    19|1467813782|Mon Apr 06 22:20:...|NO_QUERY|      gi_gi_bee|@FakerPattyPattz ...|\n",
      "+------+----------+--------------------+--------+---------------+--------------------+\n",
      "only showing top 20 rows\n",
      "\n"
     ]
    }
   ],
   "source": [
    "from pyspark.sql import SparkSession\n",
    "from pyspark.sql.functions import lit\n",
    "\n",
    "# Spark session start\n",
    "spark = SparkSession.builder.appName(\"AddHeaderToDataFrame\").getOrCreate()\n",
    "\n",
    "columns = [\"number\", \"id\", \"date\", \"query\", \"username\", \"text\"]\n",
    "\n",
    "\n",
    "\n",
    "# Header row\n",
    "header = (\"number\", \"id\", \"date\", \"query\", \"username\", \"text\")\n",
    "\n",
    "# Adding header row\n",
    "df = df.toDF(*header)\n",
    "\n",
    "\n",
    "df.show()"
   ]
  },
  {
   "cell_type": "code",
   "execution_count": 4,
   "id": "5a2b120a",
   "metadata": {},
   "outputs": [
    {
     "name": "stdout",
     "output_type": "stream",
     "text": [
      "root\n",
      " |-- number: integer (nullable = true)\n",
      " |-- id: long (nullable = true)\n",
      " |-- date: string (nullable = true)\n",
      " |-- query: string (nullable = true)\n",
      " |-- username: string (nullable = true)\n",
      " |-- text: string (nullable = true)\n",
      "\n"
     ]
    }
   ],
   "source": [
    "\n",
    "df.printSchema()\n",
    "\n"
   ]
  },
  {
   "cell_type": "code",
   "execution_count": 5,
   "id": "24f91deb",
   "metadata": {},
   "outputs": [],
   "source": [
    "drop_cols= (\"id\",\"query\",\"username\")\n",
    "df = df.drop(*drop_cols)"
   ]
  },
  {
   "cell_type": "code",
   "execution_count": 6,
   "id": "e34878a5",
   "metadata": {},
   "outputs": [
    {
     "name": "stderr",
     "output_type": "stream",
     "text": [
      "[Stage 4:================================================>        (12 + 2) / 14]\r"
     ]
    },
    {
     "name": "stdout",
     "output_type": "stream",
     "text": [
      "There are 1600000 rows and  3 columns in the dataset.\n"
     ]
    },
    {
     "name": "stderr",
     "output_type": "stream",
     "text": [
      "\r",
      "                                                                                \r"
     ]
    }
   ],
   "source": [
    "print(f\"There are {df.count()} rows and  {len(df.columns)} columns in the dataset.\")"
   ]
  },
  {
   "cell_type": "code",
   "execution_count": 7,
   "id": "fa2107aa",
   "metadata": {},
   "outputs": [
    {
     "name": "stderr",
     "output_type": "stream",
     "text": [
      "                                                                                \r"
     ]
    },
    {
     "data": {
      "text/html": [
       "<div>\n",
       "<style scoped>\n",
       "    .dataframe tbody tr th:only-of-type {\n",
       "        vertical-align: middle;\n",
       "    }\n",
       "\n",
       "    .dataframe tbody tr th {\n",
       "        vertical-align: top;\n",
       "    }\n",
       "\n",
       "    .dataframe thead th {\n",
       "        text-align: right;\n",
       "    }\n",
       "</style>\n",
       "<table border=\"1\" class=\"dataframe\">\n",
       "  <thead>\n",
       "    <tr style=\"text-align: right;\">\n",
       "      <th></th>\n",
       "      <th>number</th>\n",
       "      <th>date</th>\n",
       "      <th>text</th>\n",
       "    </tr>\n",
       "  </thead>\n",
       "  <tbody>\n",
       "    <tr>\n",
       "      <th>0</th>\n",
       "      <td>0</td>\n",
       "      <td>0</td>\n",
       "      <td>0</td>\n",
       "    </tr>\n",
       "  </tbody>\n",
       "</table>\n",
       "</div>"
      ],
      "text/plain": [
       "   number  date  text\n",
       "0       0     0     0"
      ]
     },
     "execution_count": 7,
     "metadata": {},
     "output_type": "execute_result"
    }
   ],
   "source": [
    "# Missing values check\n",
    "\n",
    "from pyspark.sql import functions as func\n",
    "\n",
    "df.select([func.count(func.when(func.isnan(c),c)).alias(c) for c in df.columns]).toPandas().head()"
   ]
  },
  {
   "cell_type": "code",
   "execution_count": 8,
   "id": "03ad95ce",
   "metadata": {},
   "outputs": [
    {
     "name": "stderr",
     "output_type": "stream",
     "text": [
      "[Stage 9:================================================>     (181 + 18) / 200]\r"
     ]
    },
    {
     "name": "stdout",
     "output_type": "stream",
     "text": [
      "Number of rows in the dataframe after dropping the duplicates: 1600000\n"
     ]
    },
    {
     "name": "stderr",
     "output_type": "stream",
     "text": [
      "\r",
      "[Stage 9:=====================================================> (193 + 7) / 200]\r",
      "\r",
      "                                                                                \r"
     ]
    }
   ],
   "source": [
    "# Duplicates check\n",
    "\n",
    "df = df.dropDuplicates()\n",
    "print(f\"Number of rows in the dataframe after dropping the duplicates: {df.count()}\")"
   ]
  },
  {
   "cell_type": "code",
   "execution_count": 9,
   "id": "d5ba2129",
   "metadata": {},
   "outputs": [
    {
     "data": {
      "text/plain": [
       "[('number', 'int'), ('date', 'string'), ('text', 'string')]"
      ]
     },
     "execution_count": 9,
     "metadata": {},
     "output_type": "execute_result"
    }
   ],
   "source": [
    "#  Column types\n",
    "\n",
    "df.dtypes\n"
   ]
  },
  {
   "cell_type": "code",
   "execution_count": 10,
   "id": "aebca1b6",
   "metadata": {},
   "outputs": [
    {
     "name": "stdout",
     "output_type": "stream",
     "text": [
      "root\n",
      " |-- number: integer (nullable = true)\n",
      " |-- date: string (nullable = true)\n",
      " |-- text: string (nullable = true)\n",
      "\n"
     ]
    }
   ],
   "source": [
    "df.printSchema()\n"
   ]
  },
  {
   "cell_type": "code",
   "execution_count": 11,
   "id": "3e7554da",
   "metadata": {},
   "outputs": [
    {
     "name": "stderr",
     "output_type": "stream",
     "text": [
      "\r",
      "[Stage 11:>                                                       (0 + 14) / 14]\r"
     ]
    },
    {
     "name": "stdout",
     "output_type": "stream",
     "text": [
      "+------+----------------------------+--------------------------------------------------------------------------------------------+\n",
      "|number|date                        |text                                                                                        |\n",
      "+------+----------------------------+--------------------------------------------------------------------------------------------+\n",
      "|146   |Mon Apr 06 22:28:26 PDT 2009|my nokia 1110 died..                                                                        |\n",
      "|851   |Mon Apr 06 23:18:02 PDT 2009|@stewiebrittany no  i dont even know how to ride it                                         |\n",
      "|1436  |Tue Apr 07 00:01:00 PDT 2009|@CyFyre no   finished two years then had twinzzzzzzzzzzz                                    |\n",
      "|1508  |Tue Apr 07 00:05:37 PDT 2009|Oh dear, all the pups died 1 by 1 last night, perhaps it was because Princess rejected them |\n",
      "|1756  |Tue Apr 07 00:23:59 PDT 2009|Somewhere in the world right now the sun is shining and people are busy...but not here      |\n",
      "+------+----------------------------+--------------------------------------------------------------------------------------------+\n",
      "only showing top 5 rows\n",
      "\n"
     ]
    },
    {
     "name": "stderr",
     "output_type": "stream",
     "text": [
      "\r",
      "[Stage 11:============================>                            (7 + 7) / 14]\r",
      "\r",
      "                                                                                \r"
     ]
    }
   ],
   "source": [
    "df.show(5, truncate = False)"
   ]
  },
  {
   "cell_type": "markdown",
   "id": "56ea0841",
   "metadata": {},
   "source": [
    "## CLEAN TEXT"
   ]
  },
  {
   "cell_type": "code",
   "execution_count": 12,
   "id": "d2d6b458",
   "metadata": {},
   "outputs": [],
   "source": [
    "import nltk\n",
    "from nltk.corpus import stopwords\n",
    "from  nltk.stem import SnowballStemmer\n",
    "import re"
   ]
  },
  {
   "cell_type": "code",
   "execution_count": 13,
   "id": "dbee9ac1",
   "metadata": {},
   "outputs": [
    {
     "name": "stderr",
     "output_type": "stream",
     "text": [
      "[nltk_data] Downloading package stopwords to /home/hduser/nltk_data...\n",
      "[nltk_data]   Package stopwords is already up-to-date!\n"
     ]
    }
   ],
   "source": [
    "nltk.download('stopwords')\n",
    "stop_words = stopwords.words(\"english\")\n",
    "stemmer = SnowballStemmer(\"english\")\n",
    "text_cleaning_re = \"@\\S+|https?:\\S+|http?:\\S|[^A-Za-z0-9]+\""
   ]
  },
  {
   "cell_type": "markdown",
   "id": "19ced9bf",
   "metadata": {},
   "source": [
    "# TOKENIZATION"
   ]
  },
  {
   "cell_type": "code",
   "execution_count": 15,
   "id": "8168fdf4",
   "metadata": {},
   "outputs": [],
   "source": [
    "def preprocess(text, stem=False):\n",
    "    # Remove link,user and special characters\n",
    "    text = re.sub(text_cleaning_re, ' ', str(text).lower()).strip()\n",
    "    tokens = []\n",
    "    for token in text.split():\n",
    "        if token not in stop_words:\n",
    "            if stem:\n",
    "                tokens.append(stemmer.stem(token))\n",
    "            else:\n",
    "                tokens.append(token)\n",
    "    return \" \".join(tokens)"
   ]
  },
  {
   "cell_type": "code",
   "execution_count": 16,
   "id": "495c0b04",
   "metadata": {},
   "outputs": [
    {
     "name": "stdout",
     "output_type": "stream",
     "text": [
      "CPU times: user 1 µs, sys: 1 µs, total: 2 µs\n",
      "Wall time: 2.62 µs\n"
     ]
    }
   ],
   "source": [
    "from pyspark.sql.types import StringType,FloatType\n",
    "\n",
    "%time\n",
    "clean_text = func.udf(lambda x: preprocess(x), StringType())\n",
    "df = df.withColumn('text_cleaned',clean_text(func.col(\"text\")))"
   ]
  },
  {
   "cell_type": "code",
   "execution_count": 17,
   "id": "4db9e245",
   "metadata": {},
   "outputs": [
    {
     "name": "stderr",
     "output_type": "stream",
     "text": [
      "[Stage 14:>                                                         (0 + 1) / 1]\r"
     ]
    },
    {
     "name": "stdout",
     "output_type": "stream",
     "text": [
      "+------+--------------------+--------------------+--------------------+\n",
      "|number|                date|                text|        text_cleaned|\n",
      "+------+--------------------+--------------------+--------------------+\n",
      "|   146|Mon Apr 06 22:28:...|my nokia 1110 die...|     nokia 1110 died|\n",
      "|   851|Mon Apr 06 23:18:...|@stewiebrittany n...| dont even know ride|\n",
      "|  1436|Tue Apr 07 00:01:...|@CyFyre no   fini...|finished two year...|\n",
      "|  1508|Tue Apr 07 00:05:...|Oh dear, all the ...|oh dear pups died...|\n",
      "|  1756|Tue Apr 07 00:23:...|Somewhere in the ...|somewhere world r...|\n",
      "|  1760|Tue Apr 07 00:24:...|Goodnight everyon...|goodnight everyon...|\n",
      "|  1777|Tue Apr 07 00:25:...|oh em gee. this i...|oh em gee love wa...|\n",
      "|  1817|Tue Apr 07 00:29:...|trying to write d...|trying write dsse...|\n",
      "|  2015|Tue Apr 07 00:45:...| there is no way ...|way go school tod...|\n",
      "|  2063|Tue Apr 07 00:48:...|@Cuckolds I'm bei...|set except watch ...|\n",
      "|  2239|Tue Apr 07 01:02:...|Borning - thats m...|borning thats col...|\n",
      "|  2281|Tue Apr 07 01:05:...|Annoying place. 4...|annoying place 4p...|\n",
      "|  2636|Tue Apr 07 01:33:...|@valdezign hmm, t...|hmm beta nambu pi...|\n",
      "|  2777|Tue Apr 07 01:44:...|When will i final...|    finally get cold|\n",
      "|  3149|Tue Apr 07 02:13:...|missed some good ...|missed good opper...|\n",
      "|  3439|Tue Apr 07 02:37:...|is feeling weird ...|feeling weird tod...|\n",
      "|  3454|Tue Apr 07 02:38:...|My best friend Am...|best friend amy c...|\n",
      "|  3548|Tue Apr 07 02:47:...|cant wait for eas...|cant wait easter ...|\n",
      "|  3947|Tue Apr 07 03:17:...|it is not that ho...|   hot outside today|\n",
      "|  4276|Tue Apr 07 03:43:...|finally home. raw...|finally home rawr...|\n",
      "+------+--------------------+--------------------+--------------------+\n",
      "only showing top 20 rows\n",
      "\n"
     ]
    },
    {
     "name": "stderr",
     "output_type": "stream",
     "text": [
      "\r",
      "                                                                                \r"
     ]
    }
   ],
   "source": [
    "df.show()\n"
   ]
  },
  {
   "cell_type": "code",
   "execution_count": 18,
   "id": "0ee373bc",
   "metadata": {},
   "outputs": [],
   "source": [
    "df = df.drop(\"text\")\n"
   ]
  },
  {
   "cell_type": "code",
   "execution_count": 19,
   "id": "ba9ad6f4",
   "metadata": {},
   "outputs": [
    {
     "name": "stderr",
     "output_type": "stream",
     "text": [
      "2023-11-15 15:40:30,442 WARN window.WindowExec: No Partition Defined for Window operation! Moving all data to a single partition, this can cause serious performance degradation.\n",
      "[Stage 17:>                                                         (0 + 1) / 1]\r"
     ]
    },
    {
     "name": "stdout",
     "output_type": "stream",
     "text": [
      "+------+--------------------+--------------------+----------+\n",
      "|number|                date|        text_cleaned|row_number|\n",
      "+------+--------------------+--------------------+----------+\n",
      "|  8575|Fri Apr 17 20:30:...|working songg aun...|         1|\n",
      "|  8576|Fri Apr 17 20:30:...|    sleep 4 30am 8am|         2|\n",
      "|  8577|Fri Apr 17 20:30:...|wishing could coa...|         3|\n",
      "|  8578|Fri Apr 17 20:30:...|well lilwo tough ...|         4|\n",
      "|  8579|Fri Apr 17 20:30:...|taking much neede...|         5|\n",
      "|  8580|Fri Apr 17 20:30:...|aww r cutest thin...|         6|\n",
      "|  8582|Fri Apr 17 20:30:...|boyfriend going t...|         7|\n",
      "|  8581|Fri Apr 17 20:30:...|sweet josh work t...|         8|\n",
      "|  8585|Fri Apr 17 20:30:...|sorry loss honey ...|         9|\n",
      "|  8584|Fri Apr 17 20:30:...|losing followers lol|        10|\n",
      "|  8586|Fri Apr 17 20:30:...|               tired|        11|\n",
      "|  8583|Fri Apr 17 20:30:...|sim see tonight e...|        12|\n",
      "|  8588|Fri Apr 17 20:30:...|misses updating c...|        13|\n",
      "|  8587|Fri Apr 17 20:30:...|could go italian ...|        14|\n",
      "|  8591|Fri Apr 17 20:30:...|andi sweetheart r...|        15|\n",
      "|  8589|Fri Apr 17 20:30:...|getting hair done...|        16|\n",
      "|  8590|Fri Apr 17 20:30:...|bored watching la...|        17|\n",
      "|  8592|Fri Apr 17 20:31:...|actually 503 mayb...|        18|\n",
      "|  8594|Fri Apr 17 20:31:...|colorado beautifu...|        19|\n",
      "|  8593|Fri Apr 17 20:31:...|         oh want one|        20|\n",
      "+------+--------------------+--------------------+----------+\n",
      "only showing top 20 rows\n",
      "\n"
     ]
    },
    {
     "name": "stderr",
     "output_type": "stream",
     "text": [
      "\r",
      "                                                                                \r"
     ]
    }
   ],
   "source": [
    "from pyspark.sql.window import Window\n",
    "from pyspark.sql import functions as F\n",
    "\n",
    "window_spec = Window.orderBy(\"date\")\n",
    "\n",
    "df = df.withColumn(\"row_number\", F.row_number().over(window_spec))\n",
    "\n",
    "df.show()\n"
   ]
  },
  {
   "cell_type": "markdown",
   "id": "f971710d",
   "metadata": {},
   "source": [
    "## SENTIMENT ANALYSIS"
   ]
  },
  {
   "cell_type": "code",
   "execution_count": 20,
   "id": "3f96c015",
   "metadata": {},
   "outputs": [
    {
     "name": "stderr",
     "output_type": "stream",
     "text": [
      "2023-11-15 15:41:31,599 WARN window.WindowExec: No Partition Defined for Window operation! Moving all data to a single partition, this can cause serious performance degradation.\n",
      "[Stage 20:>                                                         (0 + 1) / 1]\r"
     ]
    },
    {
     "name": "stdout",
     "output_type": "stream",
     "text": [
      "+------+--------------------+--------------------+----------+--------------------+-----------+------------+\n",
      "|number|                date|        text_cleaned|row_number|           sentiment|   polarity|subjectivity|\n",
      "+------+--------------------+--------------------+----------+--------------------+-----------+------------+\n",
      "|  8591|Fri Apr 17 20:30:...|andi sweetheart r...|        15|{0.13333334, 0.83...| 0.13333334|   0.8333333|\n",
      "|  8606|Fri Apr 17 20:31:...|course excited pi...|        32|     {0.5875, 0.725}|     0.5875|       0.725|\n",
      "|  8609|Fri Apr 17 20:31:...|close friend one ...|        36|{0.009375, 0.384375}|   0.009375|    0.384375|\n",
      "|  8617|Fri Apr 17 20:31:...|ohhh saying face ...|        41|          {0.0, 0.0}|        0.0|         0.0|\n",
      "|  8619|Fri Apr 17 20:31:...|got home kind lat...|        45|{0.083333336, 0.6...|0.083333336|   0.6333333|\n",
      "|  8620|Fri Apr 17 20:31:...|unfortunately thi...|        46| {-0.18333334, 0.55}|-0.18333334|        0.55|\n",
      "|  8633|Fri Apr 17 20:32:...|sighh broke somet...|        61|          {0.0, 0.0}|        0.0|         0.0|\n",
      "|812102|Fri Apr 17 20:32:...|hi kristen lookin...|        66|{0.13636364, 0.45...| 0.13636364|  0.45454547|\n",
      "|812128|Fri Apr 17 20:32:...|came back shoppin...|        86|          {0.0, 0.0}|        0.0|         0.0|\n",
      "|812119|Fri Apr 17 20:32:...|love show every p...|        89|          {0.5, 0.6}|        0.5|         0.6|\n",
      "|812134|Fri Apr 17 20:32:...|good night twitte...|        92|{0.26666668, 0.63...| 0.26666668|   0.6333333|\n",
      "|812159|Fri Apr 17 20:32:...|miss bring new fo...|       120|{0.10909091, 0.53...| 0.10909091|   0.5386364|\n",
      "|  8642|Fri Apr 17 20:32:...|really really sho...|       134|          {0.2, 0.2}|        0.2|         0.2|\n",
      "|  8673|Fri Apr 17 20:36:...|realized day comp...|       195|          {0.1, 0.4}|        0.1|         0.4|\n",
      "|  8683|Fri Apr 17 20:36:...|guys acostic perf...|       204|          {0.0, 0.0}|        0.0|         0.0|\n",
      "|812219|Fri Apr 17 20:37:...|           sweet thx|       250|        {0.35, 0.65}|       0.35|        0.65|\n",
      "|  8702|Fri Apr 17 20:37:...|digging wandering...|       251|          {0.0, 0.0}|        0.0|         0.0|\n",
      "|812224|Fri Apr 17 20:37:...|             welcome|       257|          {0.8, 0.9}|        0.8|         0.9|\n",
      "|812226|Fri Apr 17 20:37:...|u suggest follow ...|       264|          {0.0, 0.0}|        0.0|         0.0|\n",
      "|812232|Fri Apr 17 20:37:...|good music vidoes...|       269|   {0.36666667, 0.5}| 0.36666667|         0.5|\n",
      "+------+--------------------+--------------------+----------+--------------------+-----------+------------+\n",
      "only showing top 20 rows\n",
      "\n"
     ]
    },
    {
     "name": "stderr",
     "output_type": "stream",
     "text": [
      "\r",
      "                                                                                \r"
     ]
    }
   ],
   "source": [
    "from pyspark.sql.functions import udf\n",
    "from pyspark.sql.types import StructType, StructField, FloatType\n",
    "from textblob import TextBlob\n",
    "\n",
    "\n",
    "#  UDF (User-Defined Function) \n",
    "schema = StructType([StructField(\"polarity\", FloatType(), True), StructField(\"subjectivity\", FloatType(), True)])\n",
    "\n",
    "def calc_sentiment_udf(txt):\n",
    "    blob = TextBlob(txt)\n",
    "    return (blob.sentiment.polarity, blob.sentiment.subjectivity)\n",
    "\n",
    "sentiment_udf = udf(calc_sentiment_udf, schema)\n",
    "\n",
    "df = df.withColumn(\"sentiment\", sentiment_udf(df[\"text_cleaned\"]))\n",
    "\n",
    "df = df.withColumn(\"polarity\", df[\"sentiment.polarity\"])\n",
    "df = df.withColumn(\"subjectivity\", df[\"sentiment.subjectivity\"])\n",
    "\n",
    "df.sample(withReplacement=False, fraction=0.1).show()\n"
   ]
  },
  {
   "cell_type": "code",
   "execution_count": 21,
   "id": "1a517d85",
   "metadata": {},
   "outputs": [],
   "source": [
    "import matplotlib.pyplot as plt\n",
    "%matplotlib inline"
   ]
  },
  {
   "cell_type": "code",
   "execution_count": 22,
   "id": "b10d644a",
   "metadata": {},
   "outputs": [
    {
     "name": "stderr",
     "output_type": "stream",
     "text": [
      "                                                                                \r"
     ]
    },
    {
     "data": {
      "image/png": "[encoded data removed]",
      "text/plain": [
       "<Figure size 432x288 with 1 Axes>"
      ]
     },
     "metadata": {
      "needs_background": "light"
     },
     "output_type": "display_data"
    }
   ],
   "source": [
    "processed_data = df.filter(df[\"polarity\"] != 0.0).select(\"polarity\").toPandas()\n",
    "\n",
    "plt.hist(processed_data[\"polarity\"], bins=50)\n",
    "plt.xlabel(\"Polarity\")\n",
    "plt.ylabel(\"Frequency\")\n",
    "plt.title(\"Histogram of Polarity (Excluding Neutral Sentiment)\")\n",
    "plt.show()"
   ]
  },
  {
   "cell_type": "code",
   "execution_count": 23,
   "id": "7df465db",
   "metadata": {},
   "outputs": [],
   "source": [
    "spark.conf.set(\"spark.sql.legacy.timeParserPolicy\", \"LEGACY\")\n",
    "\n",
    "\n",
    "from pyspark.sql.functions import to_timestamp\n",
    "\n",
    "timestamp = to_timestamp(\"Mon Nov 05 20:40:00 2023 PST\", \"EEE MMM dd HH:mm:ss yyyy Z\")\n"
   ]
  },
  {
   "cell_type": "code",
   "execution_count": 24,
   "id": "c57a3413",
   "metadata": {},
   "outputs": [
    {
     "name": "stderr",
     "output_type": "stream",
     "text": [
      "2023-11-15 15:44:32,238 WARN window.WindowExec: No Partition Defined for Window operation! Moving all data to a single partition, this can cause serious performance degradation.\n",
      "[Stage 25:>                                                         (0 + 1) / 1]\r"
     ]
    },
    {
     "name": "stdout",
     "output_type": "stream",
     "text": [
      "+------+--------------------+--------------------+----------+--------------------+-----------+------------+-------------------+\n",
      "|number|                date|        text_cleaned|row_number|           sentiment|   polarity|subjectivity|           new_date|\n",
      "+------+--------------------+--------------------+----------+--------------------+-----------+------------+-------------------+\n",
      "|  8575|Fri Apr 17 20:30:...|working songg aun...|         1|{-0.24583334, 0.5...|-0.24583334|   0.5708333|2009-04-18 04:30:31|\n",
      "|  8576|Fri Apr 17 20:30:...|    sleep 4 30am 8am|         2|          {0.0, 0.0}|        0.0|         0.0|2009-04-18 04:30:34|\n",
      "|  8577|Fri Apr 17 20:30:...|wishing could coa...|         3|         {-0.3, 0.4}|       -0.3|         0.4|2009-04-18 04:30:38|\n",
      "|  8578|Fri Apr 17 20:30:...|well lilwo tough ...|         4|{-0.5515873, 0.84...| -0.5515873|   0.8452381|2009-04-18 04:30:39|\n",
      "|  8579|Fri Apr 17 20:30:...|taking much neede...|         5|{-0.125, 0.41666666}|     -0.125|  0.41666666|2009-04-18 04:30:43|\n",
      "|  8580|Fri Apr 17 20:30:...|aww r cutest thin...|         6|{0.32222223, 0.52...| 0.32222223|   0.5222222|2009-04-18 04:30:44|\n",
      "|  8582|Fri Apr 17 20:30:...|boyfriend going t...|         7|         {-0.1, 0.7}|       -0.1|         0.7|2009-04-18 04:30:45|\n",
      "|  8581|Fri Apr 17 20:30:...|sweet josh work t...|         8|        {0.35, 0.65}|       0.35|        0.65|2009-04-18 04:30:45|\n",
      "|  8585|Fri Apr 17 20:30:...|sorry loss honey ...|         9|         {-0.5, 1.0}|       -0.5|         1.0|2009-04-18 04:30:47|\n",
      "|  8584|Fri Apr 17 20:30:...|losing followers lol|        10|          {0.8, 0.7}|        0.8|         0.7|2009-04-18 04:30:47|\n",
      "|  8586|Fri Apr 17 20:30:...|               tired|        11|         {-0.4, 0.7}|       -0.4|         0.7|2009-04-18 04:30:49|\n",
      "|  8583|Fri Apr 17 20:30:...|sim see tonight e...|        12|          {0.0, 0.0}|        0.0|         0.0|2009-04-18 04:30:49|\n",
      "|  8588|Fri Apr 17 20:30:...|misses updating c...|        13|         {-0.5, 1.0}|       -0.5|         1.0|2009-04-18 04:30:49|\n",
      "|  8587|Fri Apr 17 20:30:...|could go italian ...|        14|{0.0952381, 0.345...|  0.0952381|   0.3452381|2009-04-18 04:30:51|\n",
      "|  8591|Fri Apr 17 20:30:...|andi sweetheart r...|        15|{0.13333334, 0.83...| 0.13333334|   0.8333333|2009-04-18 04:30:54|\n",
      "|  8589|Fri Apr 17 20:30:...|getting hair done...|        16|          {0.0, 0.0}|        0.0|         0.0|2009-04-18 04:30:54|\n",
      "|  8590|Fri Apr 17 20:30:...|bored watching la...|        17|          {0.1, 0.8}|        0.1|         0.8|2009-04-18 04:30:55|\n",
      "|  8592|Fri Apr 17 20:31:...|actually 503 mayb...|        18|          {0.0, 0.1}|        0.0|         0.1|2009-04-18 04:31:04|\n",
      "|  8594|Fri Apr 17 20:31:...|colorado beautifu...|        19|        {0.525, 0.6}|      0.525|         0.6|2009-04-18 04:31:05|\n",
      "|  8593|Fri Apr 17 20:31:...|         oh want one|        20|          {0.0, 0.0}|        0.0|         0.0|2009-04-18 04:31:05|\n",
      "+------+--------------------+--------------------+----------+--------------------+-----------+------------+-------------------+\n",
      "only showing top 20 rows\n",
      "\n"
     ]
    },
    {
     "name": "stderr",
     "output_type": "stream",
     "text": [
      "\r",
      "                                                                                \r"
     ]
    }
   ],
   "source": [
    "from pyspark.sql import functions as F\n",
    "from pyspark.sql.types import TimestampType\n",
    "\n",
    "\n",
    "\n",
    "# Convert the date column to a Timestamp type.\n",
    "df = df.withColumn(\"new_date\", F.to_timestamp(df[\"date\"], \"EEE MMM dd HH:mm:ss z yyyy\"))\n",
    "\n",
    "# Cast the new_date column to a TimestampType.\n",
    "df = df.withColumn(\"new_date\", F.col(\"new_date\").cast(TimestampType()))\n",
    "\n",
    "# Display the DataFrame.\n",
    "df.show()\n"
   ]
  },
  {
   "cell_type": "code",
   "execution_count": 25,
   "id": "13354c3a",
   "metadata": {},
   "outputs": [
    {
     "name": "stderr",
     "output_type": "stream",
     "text": [
      "[Stage 27:=====================================================>(199 + 1) / 200]\r"
     ]
    },
    {
     "name": "stdout",
     "output_type": "stream",
     "text": [
      "+------+-------------------+-----------+\n",
      "|number|time               |polarity   |\n",
      "+------+-------------------+-----------+\n",
      "|0     |2009-04-07 06:19:45|0.2        |\n",
      "|1     |2009-04-07 06:19:49|0.0        |\n",
      "|2     |2009-04-07 06:19:53|0.5        |\n",
      "|4     |2009-04-07 06:19:57|-0.625     |\n",
      "|3     |2009-04-07 06:19:57|0.2        |\n",
      "|5     |2009-04-07 06:20:00|0.2        |\n",
      "|7     |2009-04-07 06:20:03|0.34166667 |\n",
      "|6     |2009-04-07 06:20:03|0.0        |\n",
      "|8     |2009-04-07 06:20:05|0.0        |\n",
      "|9     |2009-04-07 06:20:09|0.0        |\n",
      "|10    |2009-04-07 06:20:16|-0.21428572|\n",
      "|11    |2009-04-07 06:20:17|0.0        |\n",
      "|12    |2009-04-07 06:20:19|0.0        |\n",
      "|13    |2009-04-07 06:20:19|0.0        |\n",
      "|14    |2009-04-07 06:20:20|0.225      |\n",
      "|15    |2009-04-07 06:20:20|0.0        |\n",
      "|16    |2009-04-07 06:20:22|0.0        |\n",
      "|17    |2009-04-07 06:20:25|0.0        |\n",
      "|18    |2009-04-07 06:20:31|0.5        |\n",
      "|19    |2009-04-07 06:20:34|0.0        |\n",
      "+------+-------------------+-----------+\n",
      "only showing top 20 rows\n",
      "\n"
     ]
    },
    {
     "name": "stderr",
     "output_type": "stream",
     "text": [
      "\r",
      "                                                                                \r"
     ]
    }
   ],
   "source": [
    "from pyspark.sql import SparkSession\n",
    "from pyspark.sql.functions import col\n",
    "from pyspark.sql.types import TimestampType\n",
    "\n",
    "# SparkSession oluştur\n",
    "spark = SparkSession.builder.appName(\"TwitterDataProcessing\").getOrCreate()\n",
    "\n",
    "\n",
    "# 'new_date' sütununu tarih formatına çevir\n",
    "df = df.withColumn(\"time\", col(\"new_date\").cast(TimestampType()))\n",
    "\n",
    "# Gereksiz sütunları çıkar\n",
    "df = df.select(\"number\", \"time\", \"polarity\")\n",
    "\n",
    "# 'new_date' sütununu çıkar\n",
    "df = df.drop(\"new_date\")\n",
    "\n",
    "# 'time' sütununa göre sırala\n",
    "df = df.orderBy(\"time\")\n",
    "\n",
    "# Sonuçları göster\n",
    "df.show(truncate=False)\n"
   ]
  },
  {
   "cell_type": "markdown",
   "id": "1ea5a207",
   "metadata": {},
   "source": [
    "## WEEKLY STATS"
   ]
  },
  {
   "cell_type": "code",
   "execution_count": 28,
   "id": "4b4b1a0d",
   "metadata": {},
   "outputs": [
    {
     "name": "stderr",
     "output_type": "stream",
     "text": [
      "                                                                                \r"
     ]
    },
    {
     "name": "stdout",
     "output_type": "stream",
     "text": [
      "+----+--------------------+-------------------+------------+------------+\n",
      "|week|        avg_polarity|    stddev_polarity|min_polarity|max_polarity|\n",
      "+----+--------------------+-------------------+------------+------------+\n",
      "|  26|-0.01394785479974...|0.32733840598700026|        -1.0|         1.0|\n",
      "|  22| 0.12566666412672822|0.33263216488193675|        -1.0|         1.0|\n",
      "|  16|  0.1198705260658071|0.33030722741464014|        -1.0|         1.0|\n",
      "|  20| 0.12063526645990055|0.33335135723342824|        -1.0|         1.0|\n",
      "|  19| 0.13571751746660493| 0.3491667109771893|        -1.0|         1.0|\n",
      "|  15| 0.10502953406290622| 0.3334875376553309|        -1.0|         1.0|\n",
      "|  17| 0.11721694645543472| 0.3314418122749561|        -1.0|         1.0|\n",
      "|  23| 0.11730814922956001| 0.3319286929353154|        -1.0|         1.0|\n",
      "|  25| 0.04095277050689163| 0.3323633410348467|        -1.0|         1.0|\n",
      "|  24| 0.11503489054103769|0.33546076286680665|        -1.0|         1.0|\n",
      "|  21|  0.1277597873514982|0.33274332133567763|        -1.0|         1.0|\n",
      "|  18| 0.11913525558058521|  0.332062756569726|        -1.0|         1.0|\n",
      "+----+--------------------+-------------------+------------+------------+\n",
      "\n"
     ]
    }
   ],
   "source": [
    "from pyspark.sql import SparkSession\n",
    "from pyspark.sql.functions import col, weekofyear, max, min, mean, stddev\n",
    "\n",
    "# Spark session oluşturun\n",
    "spark = SparkSession.builder.appName(\"WeeklyPolarityStatistics\").getOrCreate()\n",
    "\n",
    "\n",
    "# \"time\" sütununu tarih ve hafta numarasına çevirin\n",
    "df = df.withColumn(\"time\", col(\"time\").cast(\"timestamp\"))\n",
    "df = df.withColumn(\"week\", weekofyear(\"time\"))\n",
    "\n",
    "# Haftalık istatistikleri alın\n",
    "weekly_stats = df.groupBy(\"week\").agg(\n",
    "    mean(\"polarity\").alias(\"avg_polarity\"),\n",
    "    stddev(\"polarity\").alias(\"stddev_polarity\"),\n",
    "    min(\"polarity\").alias(\"min_polarity\"),\n",
    "    max(\"polarity\").alias(\"max_polarity\")\n",
    ")\n",
    "\n",
    "# İstatistikleri göster\n",
    "weekly_stats.show()\n"
   ]
  },
  {
   "cell_type": "code",
   "execution_count": 29,
   "id": "5474b61b",
   "metadata": {},
   "outputs": [
    {
     "name": "stderr",
     "output_type": "stream",
     "text": [
      "                                                                                \r"
     ]
    },
    {
     "data": {
      "image/png": "[encoded data removed]",
      "text/plain": [
       "<Figure size 720x432 with 1 Axes>"
      ]
     },
     "metadata": {
      "needs_background": "light"
     },
     "output_type": "display_data"
    }
   ],
   "source": [
    "import matplotlib.pyplot as plt\n",
    "\n",
    "# Spark DataFrame'i week sütununa göre sırala\n",
    "sorted_weekly_stats = weekly_stats.orderBy(\"week\")\n",
    "\n",
    "# Pandas DataFrame'e çevirme\n",
    "pandas_weekly_stats = sorted_weekly_stats.toPandas()\n",
    "\n",
    "# Grafiği çizme\n",
    "plt.figure(figsize=(10, 6))\n",
    "plt.plot(pandas_weekly_stats['week'], pandas_weekly_stats['avg_polarity'], marker='o', linestyle='-')\n",
    "plt.title('Weekly Average Polarity Change')\n",
    "plt.xlabel('Week')\n",
    "plt.ylabel('Average Polarity')\n",
    "plt.grid(True)\n",
    "plt.show()\n"
   ]
  },
  {
   "cell_type": "markdown",
   "id": "b7322145",
   "metadata": {},
   "source": [
    "##  TIME SERIES "
   ]
  },
  {
   "cell_type": "code",
   "execution_count": 35,
   "id": "b59224a8",
   "metadata": {},
   "outputs": [
    {
     "name": "stderr",
     "output_type": "stream",
     "text": [
      "                                                                                \r"
     ]
    },
    {
     "name": "stdout",
     "output_type": "stream",
     "text": [
      "+------------------------------------------+------+\n",
      "|window                                    |count |\n",
      "+------------------------------------------+------+\n",
      "|{2009-05-21 01:00:00, 2009-05-28 01:00:00}|53163 |\n",
      "|{2009-04-02 01:00:00, 2009-04-09 01:00:00}|20671 |\n",
      "|{2009-06-25 01:00:00, 2009-07-02 01:00:00}|25993 |\n",
      "|{2009-04-30 01:00:00, 2009-05-07 01:00:00}|85964 |\n",
      "|{2009-06-18 01:00:00, 2009-06-25 01:00:00}|191556|\n",
      "|{2009-05-14 01:00:00, 2009-05-21 01:00:00}|107295|\n",
      "|{2009-05-07 01:00:00, 2009-05-14 01:00:00}|41954 |\n",
      "|{2009-05-28 01:00:00, 2009-06-04 01:00:00}|504061|\n",
      "|{2009-06-04 01:00:00, 2009-06-11 01:00:00}|274625|\n",
      "|{2009-04-16 01:00:00, 2009-04-23 01:00:00}|79354 |\n",
      "|{2009-06-11 01:00:00, 2009-06-18 01:00:00}|215364|\n",
      "+------------------------------------------+------+\n",
      "\n"
     ]
    },
    {
     "name": "stderr",
     "output_type": "stream",
     "text": [
      "                                                                                \r"
     ]
    },
    {
     "name": "stdout",
     "output_type": "stream",
     "text": [
      "+------------------------------------------+------+\n",
      "|window                                    |count |\n",
      "+------------------------------------------+------+\n",
      "|{2009-06-05 01:00:00, 2009-07-05 01:00:00}|702900|\n",
      "|{2009-04-06 01:00:00, 2009-05-06 01:00:00}|185989|\n",
      "|{2009-05-06 01:00:00, 2009-06-05 01:00:00}|711111|\n",
      "+------------------------------------------+------+\n",
      "\n"
     ]
    },
    {
     "name": "stderr",
     "output_type": "stream",
     "text": [
      "                                                                                \r"
     ]
    },
    {
     "name": "stdout",
     "output_type": "stream",
     "text": [
      "+------------------------------------------+------+\n",
      "|window                                    |count |\n",
      "+------------------------------------------+------+\n",
      "|{2009-06-05 01:00:00, 2009-09-03 01:00:00}|702900|\n",
      "|{2009-03-07 00:00:00, 2009-06-05 01:00:00}|897100|\n",
      "+------------------------------------------+------+\n",
      "\n"
     ]
    }
   ],
   "source": [
    "\n",
    "from pyspark.sql import SparkSession\n",
    "from pyspark.sql.functions import col, window\n",
    "from pyspark.sql.window import Window\n",
    "\n",
    "spark = SparkSession.builder.appName(\"TimeSeriesAnalysis\").getOrCreate()\n",
    "\n",
    "\n",
    "df = df.withColumn(\"time\", col(\"time\").cast(\"timestamp\"))\n",
    "\n",
    "# 1 week time series\n",
    "weekly_series = df.groupBy(window(\"time\", \"1 week\")).count()\n",
    "weekly_series.show(truncate=False)\n",
    "\n",
    "# 1 month time series \n",
    "monthly_series = df.groupBy(window(\"time\", \"30 days\")).count()\n",
    "monthly_series.show(truncate=False)\n",
    "\n",
    "# 3 months time series\n",
    "quarterly_series = df.groupBy(window(\"time\", \"90 days\")).count()\n",
    "quarterly_series.show(truncate=False)\n",
    "\n",
    "\n",
    "spark.stop()\n"
   ]
  },
  {
   "cell_type": "markdown",
   "id": "b93d02a2",
   "metadata": {},
   "source": [
    "## WEEKLY FORECAST"
   ]
  },
  {
   "cell_type": "code",
   "execution_count": 30,
   "id": "631964d5",
   "metadata": {},
   "outputs": [
    {
     "name": "stderr",
     "output_type": "stream",
     "text": [
      "/tmp/ipykernel_19761/2654687068.py:33: FutureWarning: The frame.append method is deprecated and will be removed from pandas in a future version. Use pandas.concat instead.\n",
      "  df_forecast = df_forecast.append(pd.DataFrame({\"time\": pd.date_range(start=df_forecast['time'].max() + pd.Timedelta(days=1), periods=forecast_steps, freq='D'),\n",
      "/home/hduser/.local/lib/python3.10/site-packages/numpy/core/_methods.py:41: FutureWarning: Comparison of Timestamp with datetime.date is deprecated in order to match the standard library behavior. In a future version these will be considered non-comparable. Use 'ts == pd.Timestamp(date)' or 'ts.date() == date' instead.\n",
      "  return umr_maximum(a, axis, None, out, keepdims, initial, where)\n"
     ]
    },
    {
     "data": {
      "image/png": "[encoded data removed]",
      "text/plain": [
       "<Figure size 1800x432 with 1 Axes>"
      ]
     },
     "metadata": {
      "needs_background": "light"
     },
     "output_type": "display_data"
    }
   ],
   "source": [
    "import pandas as pd\n",
    "import numpy as np\n",
    "import matplotlib.pyplot as plt\n",
    "from statsmodels.tsa.arima.model import ARIMA\n",
    "from pyspark.sql import SparkSession\n",
    "from pyspark.sql.functions import col\n",
    "from pyspark.sql.window import Window\n",
    "\n",
    "# PySpark Session oluştur\n",
    "spark = SparkSession.builder.appName(\"ARIMA_Example\").getOrCreate()\n",
    "\n",
    "# 'time' sütununu tarih formatına dönüştür\n",
    "df_spark = df.withColumn(\"time\", col(\"time\").cast(\"date\"))\n",
    "\n",
    "# Haftalık gruplama ve ortalama alma işlemleri\n",
    "window_spec = Window.orderBy(\"time\").rowsBetween(-float('inf'), 0)\n",
    "df_spark = df_spark.withColumn(\"weekly_avg_polarity\", col(\"polarity\"))\n",
    "df_spark = df_spark.withColumn(\"weekly_avg_polarity\", col(\"weekly_avg_polarity\").cast(\"double\"))\n",
    "\n",
    "# ARIMA modelini oluştur\n",
    "model = ARIMA(df_spark.select(\"weekly_avg_polarity\").toPandas(), order=(2, 1, 1))  # (p, d, q) değerlerini istediğiniz gibi ayarlayabilirsiniz\n",
    "results = model.fit()\n",
    "\n",
    "# Gelecek 7 gün için tahmin yap\n",
    "forecast_steps = 7\n",
    "forecast = results.get_forecast(steps=forecast_steps)\n",
    "\n",
    "# Tahmin edilen değerler ve güven aralıklarını al\n",
    "forecast_values = forecast.predicted_mean\n",
    "\n",
    "# Önceki verileri ve tahminleri birleştir\n",
    "df_forecast = df_spark.toPandas()\n",
    "df_forecast = df_forecast.append(pd.DataFrame({\"time\": pd.date_range(start=df_forecast['time'].max() + pd.Timedelta(days=1), periods=forecast_steps, freq='D'),\n",
    "                                                \"weekly_avg_polarity\": forecast_values}))\n",
    "\n",
    "# Tahmin edilen değerleri ve güven aralıklarını görselleştir\n",
    "plt.figure(figsize=(25, 6)) \n",
    "plt.plot(df_forecast['time'], df_forecast['weekly_avg_polarity'], label='Actual')\n",
    "plt.plot(pd.date_range(start=df_forecast['time'].max() + pd.Timedelta(days=1), periods=forecast_steps, freq='D'), forecast_values, color='red', label='Forecast')\n",
    "plt.legend()\n",
    "plt.show()\n"
   ]
  },
  {
   "cell_type": "markdown",
   "id": "f354e295",
   "metadata": {},
   "source": [
    "# Without Zero Polarity"
   ]
  },
  {
   "cell_type": "code",
   "execution_count": 32,
   "id": "546ea1ff",
   "metadata": {},
   "outputs": [
    {
     "name": "stderr",
     "output_type": "stream",
     "text": [
      "/home/hduser/.local/lib/python3.10/site-packages/statsmodels/tsa/statespace/sarimax.py:966: UserWarning: Non-stationary starting autoregressive parameters found. Using zeros as starting parameters.\n",
      "  warn('Non-stationary starting autoregressive parameters'\n",
      "/home/hduser/.local/lib/python3.10/site-packages/statsmodels/tsa/statespace/sarimax.py:978: UserWarning: Non-invertible starting MA parameters found. Using zeros as starting parameters.\n",
      "  warn('Non-invertible starting MA parameters found.'\n",
      "/tmp/ipykernel_19761/300061979.py:36: FutureWarning: The frame.append method is deprecated and will be removed from pandas in a future version. Use pandas.concat instead.\n",
      "  df_forecast0 = df_forecast.append(pd.DataFrame({\"time\": pd.date_range(start=df_forecast0['time'].max() + pd.Timedelta(days=1), periods=forecast_steps, freq='D'),\n",
      "/home/hduser/.local/lib/python3.10/site-packages/numpy/core/_methods.py:41: FutureWarning: Comparison of Timestamp with datetime.date is deprecated in order to match the standard library behavior. In a future version these will be considered non-comparable. Use 'ts == pd.Timestamp(date)' or 'ts.date() == date' instead.\n",
      "  return umr_maximum(a, axis, None, out, keepdims, initial, where)\n"
     ]
    },
    {
     "data": {
      "image/png": "[encoded data removed]",
      "text/plain": [
       "<Figure size 1800x432 with 1 Axes>"
      ]
     },
     "metadata": {
      "needs_background": "light"
     },
     "output_type": "display_data"
    }
   ],
   "source": [
    "import pandas as pd\n",
    "import numpy as np\n",
    "import matplotlib.pyplot as plt\n",
    "from statsmodels.tsa.arima.model import ARIMA\n",
    "from pyspark.sql import SparkSession\n",
    "from pyspark.sql.functions import col\n",
    "from pyspark.sql.window import Window\n",
    "\n",
    "# PySpark Session oluştur\n",
    "spark = SparkSession.builder.appName(\"ARIMA_Example\").getOrCreate()\n",
    "\n",
    "# 'time' sütununu tarih formatına dönüştür\n",
    "df_spark = df.withColumn(\"time\", col(\"time\").cast(\"date\"))\n",
    "\n",
    "# Haftalık gruplama ve ortalama alma işlemleri\n",
    "window_spec = Window.orderBy(\"time\").rowsBetween(-float('inf'), 0)\n",
    "df_spark = df_spark.withColumn(\"weekly_avg_polarity\", col(\"polarity\"))\n",
    "df_spark = df_spark.withColumn(\"weekly_avg_polarity\", col(\"weekly_avg_polarity\").cast(\"double\"))\n",
    "\n",
    "# 0 olan satırları filtrele\n",
    "df_spark = df_spark.filter(col(\"polarity\") != 0)\n",
    "\n",
    "# ARIMA modelini oluştur\n",
    "model = ARIMA(df_spark.select(\"weekly_avg_polarity\").toPandas(), order=(4, 1, 1))  # (p, d, q) değerlerini istediğiniz gibi ayarlayabilirsiniz\n",
    "results = model.fit()\n",
    "\n",
    "# Gelecek 7 gün için tahmin yap\n",
    "forecast_steps = 7\n",
    "forecast = results.get_forecast(steps=forecast_steps)\n",
    "\n",
    "# Tahmin edilen değerler ve güven aralıklarını al\n",
    "forecast_values = forecast.predicted_mean\n",
    "\n",
    "# Önceki verileri ve tahminleri birleştir\n",
    "df_forecast0 = df_spark.toPandas()\n",
    "df_forecast0 = df_forecast.append(pd.DataFrame({\"time\": pd.date_range(start=df_forecast0['time'].max() + pd.Timedelta(days=1), periods=forecast_steps, freq='D'),\n",
    "                                                \"weekly_avg_polarity\": forecast_values}))\n",
    "\n",
    "# Tahmin edilen değerleri ve güven aralıklarını görselleştir\n",
    "plt.figure(figsize=(25, 6)) \n",
    "plt.plot(df_forecast0['time'], df_forecast0['weekly_avg_polarity'], label='Actual')\n",
    "plt.plot(pd.date_range(start=df_forecast0['time'].max() + pd.Timedelta(days=1), periods=forecast_steps, freq='D'), forecast_values, color='red', label='Forecast')\n",
    "plt.legend()\n",
    "plt.show()\n"
   ]
  },
  {
   "cell_type": "markdown",
   "id": "f8179d8e",
   "metadata": {},
   "source": [
    "## MONTHLY FORECAST"
   ]
  },
  {
   "cell_type": "code",
   "execution_count": 29,
   "id": "4dd5876e",
   "metadata": {
    "scrolled": true
   },
   "outputs": [
    {
     "name": "stderr",
     "output_type": "stream",
     "text": [
      "/home/hduser/.local/lib/python3.10/site-packages/statsmodels/tsa/statespace/sarimax.py:966: UserWarning: Non-stationary starting autoregressive parameters found. Using zeros as starting parameters.\n",
      "  warn('Non-stationary starting autoregressive parameters'\n",
      "/home/hduser/.local/lib/python3.10/site-packages/statsmodels/tsa/statespace/sarimax.py:978: UserWarning: Non-invertible starting MA parameters found. Using zeros as starting parameters.\n",
      "  warn('Non-invertible starting MA parameters found.'\n",
      "/tmp/ipykernel_4436/2511648888.py:36: FutureWarning: The frame.append method is deprecated and will be removed from pandas in a future version. Use pandas.concat instead.\n",
      "  df_forecast30 = df_forecast30.append(pd.DataFrame({\"time\": pd.date_range(start=df_forecast30['time'].max() + pd.Timedelta(days=1), periods=forecast_steps, freq='D'),\n",
      "/home/hduser/.local/lib/python3.10/site-packages/numpy/core/_methods.py:41: FutureWarning: Comparison of Timestamp with datetime.date is deprecated in order to match the standard library behavior. In a future version these will be considered non-comparable. Use 'ts == pd.Timestamp(date)' or 'ts.date() == date' instead.\n",
      "  return umr_maximum(a, axis, None, out, keepdims, initial, where)\n"
     ]
    },
    {
     "data": {
      "image/png": "[encoded data removed]",
      "text/plain": [
       "<Figure size 1800x432 with 1 Axes>"
      ]
     },
     "metadata": {
      "needs_background": "light"
     },
     "output_type": "display_data"
    }
   ],
   "source": [
    "import pandas as pd\n",
    "import numpy as np\n",
    "import matplotlib.pyplot as plt\n",
    "from statsmodels.tsa.arima.model import ARIMA\n",
    "from pyspark.sql import SparkSession\n",
    "from pyspark.sql.functions import col\n",
    "from pyspark.sql.window import Window\n",
    "\n",
    "# PySpark Session oluştur\n",
    "spark = SparkSession.builder.appName(\"ARIMA_Example\").getOrCreate()\n",
    "\n",
    "# 'time' sütununu tarih formatına dönüştür\n",
    "df_spark = df.withColumn(\"time\", col(\"time\").cast(\"date\"))\n",
    "\n",
    "# Aylık gruplama ve ortalama alma işlemleri\n",
    "window_spec = Window.orderBy(\"time\").rowsBetween(-float('inf'), 0)\n",
    "df_spark = df_spark.withColumn(\"monthly_avg_polarity\", col(\"polarity\"))\n",
    "df_spark = df_spark.withColumn(\"monthly_avg_polarity\", col(\"monthly_avg_polarity\").cast(\"double\"))\n",
    "\n",
    "# 0 olan satırları filtrele\n",
    "df_spark = df_spark.filter(col(\"polarity\") != 0)\n",
    "\n",
    "# ARIMA modelini oluştur\n",
    "model = ARIMA(df_spark.select(\"monthly_avg_polarity\").toPandas(), order=(3, 1, 1))  # (p, d, q) değerlerini istediğiniz gibi ayarlayabilirsiniz\n",
    "results = model.fit()\n",
    "\n",
    "# Gelecek 30 gün için tahmin yap (bir ay)\n",
    "forecast_steps = 30\n",
    "forecast = results.get_forecast(steps=forecast_steps)\n",
    "\n",
    "# Tahmin edilen değerler ve güven aralıklarını al\n",
    "forecast_values = forecast.predicted_mean\n",
    "\n",
    "# Önceki verileri ve tahminleri birleştir\n",
    "df_forecast30 = df_spark.toPandas()\n",
    "df_forecast30 = df_forecast30.append(pd.DataFrame({\"time\": pd.date_range(start=df_forecast30['time'].max() + pd.Timedelta(days=1), periods=forecast_steps, freq='D'),\n",
    "                                                \"monthly_avg_polarity\": forecast_values}))\n",
    "\n",
    "# Tahmin edilen değerleri ve güven aralıklarını görselleştir\n",
    "plt.figure(figsize=(25, 6)) \n",
    "plt.plot(df_forecast30['time'], df_forecast30['monthly_avg_polarity'], label='Actual')\n",
    "plt.plot(pd.date_range(start=df_forecast30['time'].max() + pd.Timedelta(days=1), periods=forecast_steps, freq='D'), forecast_values, color='red', label='Forecast')\n",
    "plt.legend()\n",
    "plt.show()"
   ]
  },
  {
   "cell_type": "markdown",
   "id": "70102f93",
   "metadata": {},
   "source": [
    "## 3 MONTH FORECAST"
   ]
  },
  {
   "cell_type": "code",
   "execution_count": 33,
   "id": "8b046e28",
   "metadata": {},
   "outputs": [
    {
     "name": "stderr",
     "output_type": "stream",
     "text": [
      "/tmp/ipykernel_4436/3713645245.py:36: FutureWarning: The frame.append method is deprecated and will be removed from pandas in a future version. Use pandas.concat instead.\n",
      "  df_forecast90 = df_forecast90.append(pd.DataFrame({\"time\": pd.date_range(start=df_forecast90['time'].max() + pd.Timedelta(days=1), periods=forecast_steps, freq='D'),\n",
      "/home/hduser/.local/lib/python3.10/site-packages/numpy/core/_methods.py:41: FutureWarning: Comparison of Timestamp with datetime.date is deprecated in order to match the standard library behavior. In a future version these will be considered non-comparable. Use 'ts == pd.Timestamp(date)' or 'ts.date() == date' instead.\n",
      "  return umr_maximum(a, axis, None, out, keepdims, initial, where)\n"
     ]
    },
    {
     "data": {
      "image/png": "[encoded data removed]",
      "text/plain": [
       "<Figure size 1800x432 with 1 Axes>"
      ]
     },
     "metadata": {
      "needs_background": "light"
     },
     "output_type": "display_data"
    }
   ],
   "source": [
    "import pandas as pd\n",
    "import numpy as np\n",
    "import matplotlib.pyplot as plt\n",
    "from statsmodels.tsa.arima.model import ARIMA\n",
    "from pyspark.sql import SparkSession\n",
    "from pyspark.sql.functions import col\n",
    "from pyspark.sql.window import Window\n",
    "\n",
    "# PySpark Session oluştur\n",
    "spark = SparkSession.builder.appName(\"ARIMA_Example\").getOrCreate()\n",
    "\n",
    "# 'time' sütununu tarih formatına dönüştür\n",
    "df_spark90 = df.withColumn(\"time\", col(\"time\").cast(\"date\"))\n",
    "\n",
    "# 3 aylık gruplama ve ortalama alma işlemleri\n",
    "window_spec = Window.orderBy(\"time\").rowsBetween(-float('inf'), 0)\n",
    "df_spark90 = df_spark90.withColumn(\"3months_avg_polarity\", col(\"polarity\"))\n",
    "df_spark90 = df_spark90.withColumn(\"3months_avg_polarity\", col(\"3months_avg_polarity\").cast(\"double\"))\n",
    "\n",
    "# 0 olan satırları filtrele\n",
    "df_spark90 = df_spark90.filter(col(\"polarity\") != 0)\n",
    "\n",
    "# ARIMA modelini oluştur\n",
    "model = ARIMA(df_spark90.select(\"3months_avg_polarity\").toPandas(), order=(2, 1, 1))  # (p, d, q) değerlerini istediğiniz gibi ayarlayabilirsiniz\n",
    "results = model.fit()\n",
    "\n",
    "# Gelecek 90 gün için tahmin yap (3 ay)\n",
    "forecast_steps = 90\n",
    "forecast = results.get_forecast(steps=forecast_steps)\n",
    "\n",
    "# Tahmin edilen değerler ve güven aralıklarını al\n",
    "forecast_values = forecast.predicted_mean\n",
    "\n",
    "# Önceki verileri ve tahminleri birleştir\n",
    "df_forecast90 = df_spark90.toPandas()\n",
    "df_forecast90 = df_forecast90.append(pd.DataFrame({\"time\": pd.date_range(start=df_forecast90['time'].max() + pd.Timedelta(days=1), periods=forecast_steps, freq='D'),\n",
    "                                                \"3months_avg_polarity\": forecast_values}))\n",
    "\n",
    "# Tahmin edilen değerleri ve güven aralıklarını görselleştir\n",
    "plt.figure(figsize=(25, 6)) \n",
    "plt.plot(df_forecast90['time'], df_forecast90['3months_avg_polarity'], label='Actual')\n",
    "plt.plot(pd.date_range(start=df_forecast90['time'].max() + pd.Timedelta(days=1), periods=forecast_steps, freq='D'), forecast_values, color='red', label='Forecast')\n",
    "plt.legend()\n",
    "plt.show()\n"
   ]
  },
  {
   "cell_type": "code",
   "execution_count": null,
   "id": "9b15b2ca",
   "metadata": {},
   "outputs": [],
   "source": [
    "spark.conf.set(\"spark.sql.legacy.timeParserPolicy\", \"LEGACY\")\n",
    "spark.conf.set(\"spark.sql.session.timeZone\", \"UTC\")\n"
   ]
  },
  {
   "cell_type": "markdown",
   "id": "9e80c971",
   "metadata": {},
   "source": [
    "import dash\n",
    "from dash import dcc, html\n",
    "import plotly.express as px\n",
    "import pandas as pd\n",
    "\n",
    "from pyspark.sql import SparkSession\n",
    "\n",
    "# SparkSession oluştur\n",
    "spark = SparkSession.builder.appName(\"example\").getOrCreate()\n",
    "\n",
    "\n",
    "# Spark DataFrame'ini Pandas DataFrame'e dönüştür\n",
    "df_pandas = df.toPandas()\n",
    "\n",
    "# Dash uygulamasını oluştur\n",
    "app = dash.Dash(__name__)\n",
    "\n",
    "# Dashboard düzenini oluştur\n",
    "app.layout = html.Div(children=[\n",
    "    html.H1(children='Sentiment Analysis Dashboard'),\n",
    "\n",
    "    dcc.Graph(\n",
    "        id='sentiment-graph',\n",
    "        figure=px.line(df_pandas, x='new_date', y='polarity', title='Polarity Change Over Time')\n",
    "    )\n",
    "])\n",
    "\n",
    "# Uygulamayı çalıştır\n",
    "if __name__ == '__main__':\n",
    "    app.run_server(debug=True)\n"
   ]
  },
  {
   "cell_type": "code",
   "execution_count": null,
   "id": "6ac9be7a",
   "metadata": {},
   "outputs": [],
   "source": []
  }
 ],
 "metadata": {
  "kernelspec": {
   "display_name": "Python 3 (ipykernel)",
   "language": "python",
   "name": "python3"
  },
  "language_info": {
   "codemirror_mode": {
    "name": "ipython",
    "version": 3
   },
   "file_extension": ".py",
   "mimetype": "text/x-python",
   "name": "python",
   "nbconvert_exporter": "python",
   "pygments_lexer": "ipython3",
   "version": "3.10.12"
  }
 },
 "nbformat": 4,
 "nbformat_minor": 5
}
