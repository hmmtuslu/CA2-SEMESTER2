{
 "cells": [
  {
   "cell_type": "code",
   "execution_count": 1,
   "id": "b9175964",
   "metadata": {},
   "outputs": [
    {
     "name": "stderr",
     "output_type": "stream",
     "text": [
      "                                                                                \r"
     ]
    }
   ],
   "source": [
    "from pyspark.sql import SparkSession\n",
    "\n",
    "\n",
    "spark = SparkSession.builder.appName(\"upload_data\").getOrCreate()\n",
    "\n",
    "\n",
    "df = spark.read.csv(\"/ProjectTweets.csv\", header=False, inferSchema=True)\n",
    "\n"
   ]
  },
  {
   "cell_type": "code",
   "execution_count": 2,
   "id": "4642809d",
   "metadata": {
    "scrolled": true
   },
   "outputs": [
    {
     "name": "stdout",
     "output_type": "stream",
     "text": [
      "+---+----------+--------------------+--------+---------------+--------------------+\n",
      "|_c0|       _c1|                 _c2|     _c3|            _c4|                 _c5|\n",
      "+---+----------+--------------------+--------+---------------+--------------------+\n",
      "|  0|1467810369|Mon Apr 06 22:19:...|NO_QUERY|_TheSpecialOne_|@switchfoot http:...|\n",
      "|  1|1467810672|Mon Apr 06 22:19:...|NO_QUERY|  scotthamilton|is upset that he ...|\n",
      "|  2|1467810917|Mon Apr 06 22:19:...|NO_QUERY|       mattycus|@Kenichan I dived...|\n",
      "|  3|1467811184|Mon Apr 06 22:19:...|NO_QUERY|        ElleCTF|my whole body fee...|\n",
      "|  4|1467811193|Mon Apr 06 22:19:...|NO_QUERY|         Karoli|@nationwideclass ...|\n",
      "|  5|1467811372|Mon Apr 06 22:20:...|NO_QUERY|       joy_wolf|@Kwesidei not the...|\n",
      "|  6|1467811592|Mon Apr 06 22:20:...|NO_QUERY|        mybirch|         Need a hug |\n",
      "|  7|1467811594|Mon Apr 06 22:20:...|NO_QUERY|           coZZ|@LOLTrish hey  lo...|\n",
      "|  8|1467811795|Mon Apr 06 22:20:...|NO_QUERY|2Hood4Hollywood|@Tatiana_K nope t...|\n",
      "|  9|1467812025|Mon Apr 06 22:20:...|NO_QUERY|        mimismo|@twittera que me ...|\n",
      "| 10|1467812416|Mon Apr 06 22:20:...|NO_QUERY| erinx3leannexo|spring break in p...|\n",
      "| 11|1467812579|Mon Apr 06 22:20:...|NO_QUERY|   pardonlauren|I just re-pierced...|\n",
      "| 12|1467812723|Mon Apr 06 22:20:...|NO_QUERY|           TLeC|@caregiving I cou...|\n",
      "| 13|1467812771|Mon Apr 06 22:20:...|NO_QUERY|robrobbierobert|@octolinz16 It it...|\n",
      "| 14|1467812784|Mon Apr 06 22:20:...|NO_QUERY|    bayofwolves|@smarrison i woul...|\n",
      "| 15|1467812799|Mon Apr 06 22:20:...|NO_QUERY|     HairByJess|@iamjazzyfizzle I...|\n",
      "| 16|1467812964|Mon Apr 06 22:20:...|NO_QUERY| lovesongwriter|Hollis' death sce...|\n",
      "| 17|1467813137|Mon Apr 06 22:20:...|NO_QUERY|       armotley|about to file taxes |\n",
      "| 18|1467813579|Mon Apr 06 22:20:...|NO_QUERY|     starkissed|@LettyA ahh ive a...|\n",
      "| 19|1467813782|Mon Apr 06 22:20:...|NO_QUERY|      gi_gi_bee|@FakerPattyPattz ...|\n",
      "+---+----------+--------------------+--------+---------------+--------------------+\n",
      "only showing top 20 rows\n",
      "\n"
     ]
    }
   ],
   "source": [
    "\n",
    "df.show()"
   ]
  },
  {
   "cell_type": "code",
   "execution_count": 3,
   "id": "3b60acc1",
   "metadata": {},
   "outputs": [
    {
     "name": "stdout",
     "output_type": "stream",
     "text": [
      "+------+----------+--------------------+--------+---------------+--------------------+\n",
      "|number|        id|                date|   query|       username|                text|\n",
      "+------+----------+--------------------+--------+---------------+--------------------+\n",
      "|     0|1467810369|Mon Apr 06 22:19:...|NO_QUERY|_TheSpecialOne_|@switchfoot http:...|\n",
      "|     1|1467810672|Mon Apr 06 22:19:...|NO_QUERY|  scotthamilton|is upset that he ...|\n",
      "|     2|1467810917|Mon Apr 06 22:19:...|NO_QUERY|       mattycus|@Kenichan I dived...|\n",
      "|     3|1467811184|Mon Apr 06 22:19:...|NO_QUERY|        ElleCTF|my whole body fee...|\n",
      "|     4|1467811193|Mon Apr 06 22:19:...|NO_QUERY|         Karoli|@nationwideclass ...|\n",
      "|     5|1467811372|Mon Apr 06 22:20:...|NO_QUERY|       joy_wolf|@Kwesidei not the...|\n",
      "|     6|1467811592|Mon Apr 06 22:20:...|NO_QUERY|        mybirch|         Need a hug |\n",
      "|     7|1467811594|Mon Apr 06 22:20:...|NO_QUERY|           coZZ|@LOLTrish hey  lo...|\n",
      "|     8|1467811795|Mon Apr 06 22:20:...|NO_QUERY|2Hood4Hollywood|@Tatiana_K nope t...|\n",
      "|     9|1467812025|Mon Apr 06 22:20:...|NO_QUERY|        mimismo|@twittera que me ...|\n",
      "|    10|1467812416|Mon Apr 06 22:20:...|NO_QUERY| erinx3leannexo|spring break in p...|\n",
      "|    11|1467812579|Mon Apr 06 22:20:...|NO_QUERY|   pardonlauren|I just re-pierced...|\n",
      "|    12|1467812723|Mon Apr 06 22:20:...|NO_QUERY|           TLeC|@caregiving I cou...|\n",
      "|    13|1467812771|Mon Apr 06 22:20:...|NO_QUERY|robrobbierobert|@octolinz16 It it...|\n",
      "|    14|1467812784|Mon Apr 06 22:20:...|NO_QUERY|    bayofwolves|@smarrison i woul...|\n",
      "|    15|1467812799|Mon Apr 06 22:20:...|NO_QUERY|     HairByJess|@iamjazzyfizzle I...|\n",
      "|    16|1467812964|Mon Apr 06 22:20:...|NO_QUERY| lovesongwriter|Hollis' death sce...|\n",
      "|    17|1467813137|Mon Apr 06 22:20:...|NO_QUERY|       armotley|about to file taxes |\n",
      "|    18|1467813579|Mon Apr 06 22:20:...|NO_QUERY|     starkissed|@LettyA ahh ive a...|\n",
      "|    19|1467813782|Mon Apr 06 22:20:...|NO_QUERY|      gi_gi_bee|@FakerPattyPattz ...|\n",
      "+------+----------+--------------------+--------+---------------+--------------------+\n",
      "only showing top 20 rows\n",
      "\n"
     ]
    }
   ],
   "source": [
    "from pyspark.sql import SparkSession\n",
    "from pyspark.sql.functions import lit\n",
    "\n",
    "# Spark session start\n",
    "spark = SparkSession.builder.appName(\"AddHeaderToDataFrame\").getOrCreate()\n",
    "\n",
    "columns = [\"number\", \"id\", \"date\", \"query\", \"username\", \"text\"]\n",
    "\n",
    "\n",
    "\n",
    "# Header row\n",
    "header = (\"number\", \"id\", \"date\", \"query\", \"username\", \"text\")\n",
    "\n",
    "# Adding header row\n",
    "df = df.toDF(*header)\n",
    "\n",
    "\n",
    "df.show()"
   ]
  },
  {
   "cell_type": "code",
   "execution_count": 4,
   "id": "5a2b120a",
   "metadata": {
    "scrolled": true
   },
   "outputs": [
    {
     "name": "stdout",
     "output_type": "stream",
     "text": [
      "root\n",
      " |-- number: integer (nullable = true)\n",
      " |-- id: long (nullable = true)\n",
      " |-- date: string (nullable = true)\n",
      " |-- query: string (nullable = true)\n",
      " |-- username: string (nullable = true)\n",
      " |-- text: string (nullable = true)\n",
      "\n"
     ]
    }
   ],
   "source": [
    "\n",
    "df.printSchema()\n",
    "\n"
   ]
  },
  {
   "cell_type": "code",
   "execution_count": 5,
   "id": "e34878a5",
   "metadata": {},
   "outputs": [
    {
     "name": "stderr",
     "output_type": "stream",
     "text": [
      "\r",
      "[Stage 4:>                                                        (0 + 14) / 14]\r"
     ]
    },
    {
     "name": "stdout",
     "output_type": "stream",
     "text": [
      "There are 1600000 rows and  6 columns in the dataset.\n"
     ]
    },
    {
     "name": "stderr",
     "output_type": "stream",
     "text": [
      "\r",
      "                                                                                \r"
     ]
    }
   ],
   "source": [
    "print(f\"There are {df.count()} rows and  {len(df.columns)} columns in the dataset.\")"
   ]
  },
  {
   "cell_type": "code",
   "execution_count": 6,
   "id": "fa2107aa",
   "metadata": {},
   "outputs": [
    {
     "name": "stderr",
     "output_type": "stream",
     "text": [
      "                                                                                \r"
     ]
    },
    {
     "data": {
      "text/html": [
       "<div>\n",
       "<style scoped>\n",
       "    .dataframe tbody tr th:only-of-type {\n",
       "        vertical-align: middle;\n",
       "    }\n",
       "\n",
       "    .dataframe tbody tr th {\n",
       "        vertical-align: top;\n",
       "    }\n",
       "\n",
       "    .dataframe thead th {\n",
       "        text-align: right;\n",
       "    }\n",
       "</style>\n",
       "<table border=\"1\" class=\"dataframe\">\n",
       "  <thead>\n",
       "    <tr style=\"text-align: right;\">\n",
       "      <th></th>\n",
       "      <th>number</th>\n",
       "      <th>id</th>\n",
       "      <th>date</th>\n",
       "      <th>query</th>\n",
       "      <th>username</th>\n",
       "      <th>text</th>\n",
       "    </tr>\n",
       "  </thead>\n",
       "  <tbody>\n",
       "    <tr>\n",
       "      <th>0</th>\n",
       "      <td>0</td>\n",
       "      <td>0</td>\n",
       "      <td>0</td>\n",
       "      <td>0</td>\n",
       "      <td>0</td>\n",
       "      <td>0</td>\n",
       "    </tr>\n",
       "  </tbody>\n",
       "</table>\n",
       "</div>"
      ],
      "text/plain": [
       "   number  id  date  query  username  text\n",
       "0       0   0     0      0         0     0"
      ]
     },
     "execution_count": 6,
     "metadata": {},
     "output_type": "execute_result"
    }
   ],
   "source": [
    "# Missing values check\n",
    "\n",
    "from pyspark.sql import functions as func\n",
    "\n",
    "df.select([func.count(func.when(func.isnan(c),c)).alias(c) for c in df.columns]).toPandas().head()"
   ]
  },
  {
   "cell_type": "code",
   "execution_count": 7,
   "id": "03ad95ce",
   "metadata": {},
   "outputs": [
    {
     "name": "stderr",
     "output_type": "stream",
     "text": [
      "[Stage 9:========================================>             (151 + 18) / 200]\r"
     ]
    },
    {
     "name": "stdout",
     "output_type": "stream",
     "text": [
      "Number of rows in the dataframe after dropping the duplicates: 1600000\n"
     ]
    },
    {
     "name": "stderr",
     "output_type": "stream",
     "text": [
      "\r",
      "[Stage 9:=============================================>        (167 + 18) / 200]\r",
      "\r",
      "[Stage 9:======================================================>(198 + 2) / 200]\r",
      "\r",
      "                                                                                \r"
     ]
    }
   ],
   "source": [
    "# Duplicates check\n",
    "\n",
    "df = df.dropDuplicates()\n",
    "print(f\"Number of rows in the dataframe after dropping the duplicates: {df.count()}\")"
   ]
  },
  {
   "cell_type": "code",
   "execution_count": 8,
   "id": "d5ba2129",
   "metadata": {},
   "outputs": [
    {
     "data": {
      "text/plain": [
       "[('number', 'int'),\n",
       " ('id', 'bigint'),\n",
       " ('date', 'string'),\n",
       " ('query', 'string'),\n",
       " ('username', 'string'),\n",
       " ('text', 'string')]"
      ]
     },
     "execution_count": 8,
     "metadata": {},
     "output_type": "execute_result"
    }
   ],
   "source": [
    "#  Column types\n",
    "\n",
    "df.dtypes\n"
   ]
  },
  {
   "cell_type": "code",
   "execution_count": 9,
   "id": "24f91deb",
   "metadata": {},
   "outputs": [],
   "source": [
    "drop_cols= (\"id\",\"query\",\"username\")\n",
    "df = df.drop(*drop_cols)"
   ]
  },
  {
   "cell_type": "code",
   "execution_count": 10,
   "id": "aebca1b6",
   "metadata": {},
   "outputs": [
    {
     "name": "stdout",
     "output_type": "stream",
     "text": [
      "root\n",
      " |-- number: integer (nullable = true)\n",
      " |-- date: string (nullable = true)\n",
      " |-- text: string (nullable = true)\n",
      "\n"
     ]
    }
   ],
   "source": [
    "df.printSchema()\n"
   ]
  },
  {
   "cell_type": "code",
   "execution_count": 11,
   "id": "3e7554da",
   "metadata": {},
   "outputs": [
    {
     "name": "stderr",
     "output_type": "stream",
     "text": [
      "[Stage 11:============================================>           (11 + 3) / 14]\r"
     ]
    },
    {
     "name": "stdout",
     "output_type": "stream",
     "text": [
      "+------+----------------------------+---------------------------------------------------------------------------------------------------------------------------------------------+\n",
      "|number|date                        |text                                                                                                                                         |\n",
      "+------+----------------------------+---------------------------------------------------------------------------------------------------------------------------------------------+\n",
      "|179   |Mon Apr 06 22:31:57 PDT 2009|Staying at a friends house...house sitting, neighbors are SO loud-having a party                                                             |\n",
      "|668   |Mon Apr 06 23:06:23 PDT 2009|i dont want to believe what im reading...buu,so sad                                                                                          |\n",
      "|747   |Mon Apr 06 23:11:06 PDT 2009|Have an invite for &quot;Healthy Dining&quot; session at Ashok Hotel today with Exec Chef R.Chopra but damn workload - will have to skip it! |\n",
      "|1175  |Mon Apr 06 23:42:58 PDT 2009|@amyserrata he wrote most of the album, but ironically, the singles he did not write                                                         |\n",
      "|1251  |Mon Apr 06 23:47:50 PDT 2009|@aniita_0517 Yes i did. That's a sad topic for me! haha... I am not going to the concert... It's very far and probably very expensive        |\n",
      "+------+----------------------------+---------------------------------------------------------------------------------------------------------------------------------------------+\n",
      "only showing top 5 rows\n",
      "\n"
     ]
    },
    {
     "name": "stderr",
     "output_type": "stream",
     "text": [
      "\r",
      "                                                                                \r"
     ]
    }
   ],
   "source": [
    "df.show(5, truncate = False)"
   ]
  },
  {
   "cell_type": "code",
   "execution_count": 12,
   "id": "5dcfd61f",
   "metadata": {},
   "outputs": [
    {
     "name": "stderr",
     "output_type": "stream",
     "text": [
      "[Stage 14:========================================>            (154 + 17) / 200]\r"
     ]
    },
    {
     "name": "stdout",
     "output_type": "stream",
     "text": [
      "There are 1600000 rows and  3 columns in the dataset.\n"
     ]
    },
    {
     "name": "stderr",
     "output_type": "stream",
     "text": [
      "\r",
      "[Stage 14:=============================================>       (173 + 15) / 200]\r",
      "\r",
      "                                                                                \r"
     ]
    }
   ],
   "source": [
    "print(f\"There are {df.count()} rows and  {len(df.columns)} columns in the dataset.\")"
   ]
  },
  {
   "cell_type": "code",
   "execution_count": 13,
   "id": "d2d6b458",
   "metadata": {},
   "outputs": [],
   "source": [
    "import nltk\n",
    "from nltk.corpus import stopwords\n",
    "from  nltk.stem import SnowballStemmer\n",
    "import re"
   ]
  },
  {
   "cell_type": "code",
   "execution_count": 14,
   "id": "dbee9ac1",
   "metadata": {},
   "outputs": [
    {
     "name": "stderr",
     "output_type": "stream",
     "text": [
      "[nltk_data] Downloading package stopwords to /home/hduser/nltk_data...\n",
      "[nltk_data]   Package stopwords is already up-to-date!\n"
     ]
    }
   ],
   "source": [
    "nltk.download('stopwords')\n",
    "stop_words = stopwords.words(\"english\")\n",
    "stemmer = SnowballStemmer(\"english\")\n",
    "text_cleaning_re = \"@\\S+|https?:\\S+|http?:\\S|[^A-Za-z0-9]+\""
   ]
  },
  {
   "cell_type": "code",
   "execution_count": 15,
   "id": "8168fdf4",
   "metadata": {},
   "outputs": [],
   "source": [
    "def preprocess(text, stem=False):\n",
    "    # Remove link,user and special characters\n",
    "    text = re.sub(text_cleaning_re, ' ', str(text).lower()).strip()\n",
    "    tokens = []\n",
    "    for token in text.split():\n",
    "        if token not in stop_words:\n",
    "            if stem:\n",
    "                tokens.append(stemmer.stem(token))\n",
    "            else:\n",
    "                tokens.append(token)\n",
    "    return \" \".join(tokens)"
   ]
  },
  {
   "cell_type": "code",
   "execution_count": 16,
   "id": "495c0b04",
   "metadata": {},
   "outputs": [
    {
     "name": "stdout",
     "output_type": "stream",
     "text": [
      "CPU times: user 1e+03 ns, sys: 2 µs, total: 3 µs\n",
      "Wall time: 3.81 µs\n"
     ]
    }
   ],
   "source": [
    "from pyspark.sql.types import StringType,FloatType\n",
    "\n",
    "%time\n",
    "clean_text = func.udf(lambda x: preprocess(x), StringType())\n",
    "df = df.withColumn('text_cleaned',clean_text(func.col(\"text\")))"
   ]
  },
  {
   "cell_type": "code",
   "execution_count": 17,
   "id": "4db9e245",
   "metadata": {},
   "outputs": [
    {
     "name": "stderr",
     "output_type": "stream",
     "text": [
      "[Stage 16:====>                                                   (1 + 13) / 14]\r"
     ]
    },
    {
     "name": "stdout",
     "output_type": "stream",
     "text": [
      "+------+--------------------+--------------------+--------------------+\n",
      "|number|                date|                text|        text_cleaned|\n",
      "+------+--------------------+--------------------+--------------------+\n",
      "|   179|Mon Apr 06 22:31:...|Staying at a frie...|staying friends h...|\n",
      "|   668|Mon Apr 06 23:06:...|i dont want to be...|dont want believe...|\n",
      "|   747|Mon Apr 06 23:11:...|Have an invite fo...|invite quot healt...|\n",
      "|  1175|Mon Apr 06 23:42:...|@amyserrata he wr...|wrote album ironi...|\n",
      "|  1251|Mon Apr 06 23:47:...|@aniita_0517 Yes ...|yes sad topic hah...|\n",
      "|  1289|Mon Apr 06 23:50:...|@heatherlibby  Oh...|oh well seems lik...|\n",
      "|  1438|Tue Apr 07 00:01:...|Oh, and it's offi...|oh officially bir...|\n",
      "|  1919|Tue Apr 07 00:36:...|my facebook is Fu...|     facebook fucked|\n",
      "|  2582|Tue Apr 07 01:28:...|          need hugs |           need hugs|\n",
      "|  2613|Tue Apr 07 01:31:...|is supposed to wo...|supposed work uni...|\n",
      "|  2800|Tue Apr 07 01:46:...|@ThomasGudgeon We...|well yes shame ge...|\n",
      "|  3568|Tue Apr 07 02:48:...|@alessandrod sadn...|sadness please ke...|\n",
      "|  3621|Tue Apr 07 02:52:...|so tomorrow/today...|tomorrow today fi...|\n",
      "|  3943|Tue Apr 07 03:17:...|wish i was going ...|wish going melbou...|\n",
      "|  4338|Tue Apr 07 03:46:...|one of my teacher...|one teachers died...|\n",
      "|  4512|Tue Apr 07 04:00:...|Watched a movie.....|watched movie fee...|\n",
      "|  4784|Tue Apr 07 04:21:...|Shame processing ...|shame processing ...|\n",
      "|  4839|Tue Apr 07 04:24:...|@seishinseii Tell...|tell hence hate s...|\n",
      "|  5048|Tue Apr 07 04:39:...|&quot;April SNOW ...|quot april snow s...|\n",
      "|  5121|Tue Apr 07 04:46:...|Mornin twitterlin...|mornin twitterlin...|\n",
      "+------+--------------------+--------------------+--------------------+\n",
      "only showing top 20 rows\n",
      "\n"
     ]
    },
    {
     "name": "stderr",
     "output_type": "stream",
     "text": [
      "\r",
      "[Stage 17:>                                                         (0 + 1) / 1]\r",
      "\r",
      "                                                                                \r"
     ]
    }
   ],
   "source": [
    "df.show()\n"
   ]
  },
  {
   "cell_type": "code",
   "execution_count": 18,
   "id": "0ee373bc",
   "metadata": {},
   "outputs": [],
   "source": [
    "df = df.drop(\"text\")\n"
   ]
  },
  {
   "cell_type": "code",
   "execution_count": 19,
   "id": "ba9ad6f4",
   "metadata": {},
   "outputs": [
    {
     "name": "stderr",
     "output_type": "stream",
     "text": [
      "2023-11-13 20:41:34,914 WARN window.WindowExec: No Partition Defined for Window operation! Moving all data to a single partition, this can cause serious performance degradation.\n",
      "[Stage 20:>                                                         (0 + 1) / 1]\r"
     ]
    },
    {
     "name": "stdout",
     "output_type": "stream",
     "text": [
      "+------+--------------------+--------------------+----------+\n",
      "|number|                date|        text_cleaned|row_number|\n",
      "+------+--------------------+--------------------+----------+\n",
      "|  8575|Fri Apr 17 20:30:...|working songg aun...|         1|\n",
      "|  8576|Fri Apr 17 20:30:...|    sleep 4 30am 8am|         2|\n",
      "|  8577|Fri Apr 17 20:30:...|wishing could coa...|         3|\n",
      "|  8578|Fri Apr 17 20:30:...|well lilwo tough ...|         4|\n",
      "|  8579|Fri Apr 17 20:30:...|taking much neede...|         5|\n",
      "|  8580|Fri Apr 17 20:30:...|aww r cutest thin...|         6|\n",
      "|  8581|Fri Apr 17 20:30:...|sweet josh work t...|         7|\n",
      "|  8582|Fri Apr 17 20:30:...|boyfriend going t...|         8|\n",
      "|  8585|Fri Apr 17 20:30:...|sorry loss honey ...|         9|\n",
      "|  8584|Fri Apr 17 20:30:...|losing followers lol|        10|\n",
      "|  8586|Fri Apr 17 20:30:...|               tired|        11|\n",
      "|  8588|Fri Apr 17 20:30:...|misses updating c...|        12|\n",
      "|  8583|Fri Apr 17 20:30:...|sim see tonight e...|        13|\n",
      "|  8587|Fri Apr 17 20:30:...|could go italian ...|        14|\n",
      "|  8589|Fri Apr 17 20:30:...|getting hair done...|        15|\n",
      "|  8591|Fri Apr 17 20:30:...|andi sweetheart r...|        16|\n",
      "|  8590|Fri Apr 17 20:30:...|bored watching la...|        17|\n",
      "|  8592|Fri Apr 17 20:31:...|actually 503 mayb...|        18|\n",
      "|  8594|Fri Apr 17 20:31:...|colorado beautifu...|        19|\n",
      "|  8593|Fri Apr 17 20:31:...|         oh want one|        20|\n",
      "+------+--------------------+--------------------+----------+\n",
      "only showing top 20 rows\n",
      "\n"
     ]
    },
    {
     "name": "stderr",
     "output_type": "stream",
     "text": [
      "\r",
      "                                                                                \r"
     ]
    }
   ],
   "source": [
    "from pyspark.sql.window import Window\n",
    "from pyspark.sql import functions as F\n",
    "\n",
    "window_spec = Window.orderBy(\"date\")\n",
    "\n",
    "df = df.withColumn(\"row_number\", F.row_number().over(window_spec))\n",
    "\n",
    "df.show()\n"
   ]
  },
  {
   "cell_type": "code",
   "execution_count": 20,
   "id": "3f96c015",
   "metadata": {},
   "outputs": [
    {
     "name": "stderr",
     "output_type": "stream",
     "text": [
      "2023-11-13 20:42:02,043 WARN window.WindowExec: No Partition Defined for Window operation! Moving all data to a single partition, this can cause serious performance degradation.\n",
      "[Stage 23:>                                                         (0 + 1) / 1]\r"
     ]
    },
    {
     "name": "stdout",
     "output_type": "stream",
     "text": [
      "+------+--------------------+--------------------+----------+--------------------+----------+------------+\n",
      "|number|                date|        text_cleaned|row_number|           sentiment|  polarity|subjectivity|\n",
      "+------+--------------------+--------------------+----------+--------------------+----------+------------+\n",
      "|  8580|Fri Apr 17 20:30:...|aww r cutest thin...|         6|{0.32222223, 0.52...|0.32222223|   0.5222222|\n",
      "|  8598|Fri Apr 17 20:31:...|          happy team|        24|          {0.8, 1.0}|       0.8|         1.0|\n",
      "|  8604|Fri Apr 17 20:31:...|see really cool a...|        30|    {-0.0125, 0.575}|   -0.0125|       0.575|\n",
      "|  8605|Fri Apr 17 20:31:...|waiting waiting w...|        31|          {0.0, 0.0}|       0.0|         0.0|\n",
      "|  8624|Fri Apr 17 20:31:...|soultapestry thin...|        53|          {0.0, 0.0}|       0.0|         0.0|\n",
      "|812127|Fri Apr 17 20:32:...|committee secured...|        95|          {0.0, 0.0}|       0.0|         0.0|\n",
      "|812131|Fri Apr 17 20:32:...|   geez sound blonde|        96|          {0.2, 0.2}|       0.2|         0.2|\n",
      "|812153|Fri Apr 17 20:32:...|     want get greedy|       122|          {0.0, 0.0}|       0.0|         0.0|\n",
      "|  8642|Fri Apr 17 20:32:...|really really sho...|       134|          {0.2, 0.2}|       0.2|         0.2|\n",
      "|812171|Fri Apr 17 20:32:...|excited tomorrow ...|       149|       {0.375, 0.75}|     0.375|        0.75|\n",
      "|812170|Fri Apr 17 20:32:...|fabulous 1st date...|       150|    {0.3625, 0.4125}|    0.3625|      0.4125|\n",
      "|812174|Fri Apr 17 20:32:...|vacation track me...|       154|          {0.0, 0.0}|       0.0|         0.0|\n",
      "|812190|Fri Apr 17 20:32:...|            cry baby|       163|          {0.0, 0.0}|       0.0|         0.0|\n",
      "|812191|Fri Apr 17 20:32:...|katelyn going kin...|       170|          {0.0, 0.0}|       0.0|         0.0|\n",
      "|  8651|Fri Apr 17 20:35:...|high homes condos...|       173|  {0.08, 0.60333335}|      0.08|  0.60333335|\n",
      "|  8661|Fri Apr 17 20:35:...|everyone wants fr...|       183|       {0.075, 0.25}|     0.075|        0.25|\n",
      "|  8677|Fri Apr 17 20:36:...|even twist still ...|       199|          {0.0, 0.0}|       0.0|         0.0|\n",
      "|812197|Fri Apr 17 20:37:...|beach awesome wen...|       220|          {1.0, 1.0}|       1.0|         1.0|\n",
      "|  8695|Fri Apr 17 20:37:...|               great|       232|         {0.8, 0.75}|       0.8|        0.75|\n",
      "|812221|Fri Apr 17 20:37:...|   woo going tonight|       252|          {0.0, 0.0}|       0.0|         0.0|\n",
      "+------+--------------------+--------------------+----------+--------------------+----------+------------+\n",
      "only showing top 20 rows\n",
      "\n"
     ]
    },
    {
     "name": "stderr",
     "output_type": "stream",
     "text": [
      "\r",
      "                                                                                \r"
     ]
    }
   ],
   "source": [
    "from pyspark.sql.functions import udf\n",
    "from pyspark.sql.types import StructType, StructField, FloatType\n",
    "from textblob import TextBlob\n",
    "\n",
    "\n",
    "#  UDF (User-Defined Function) \n",
    "schema = StructType([StructField(\"polarity\", FloatType(), True), StructField(\"subjectivity\", FloatType(), True)])\n",
    "\n",
    "def calc_sentiment_udf(txt):\n",
    "    blob = TextBlob(txt)\n",
    "    return (blob.sentiment.polarity, blob.sentiment.subjectivity)\n",
    "\n",
    "sentiment_udf = udf(calc_sentiment_udf, schema)\n",
    "\n",
    "df = df.withColumn(\"sentiment\", sentiment_udf(df[\"text_cleaned\"]))\n",
    "\n",
    "df = df.withColumn(\"polarity\", df[\"sentiment.polarity\"])\n",
    "df = df.withColumn(\"subjectivity\", df[\"sentiment.subjectivity\"])\n",
    "\n",
    "df.sample(withReplacement=False, fraction=0.1).show()\n"
   ]
  },
  {
   "cell_type": "code",
   "execution_count": 21,
   "id": "1a517d85",
   "metadata": {},
   "outputs": [],
   "source": [
    "import matplotlib.pyplot as plt\n",
    "%matplotlib inline"
   ]
  },
  {
   "cell_type": "code",
   "execution_count": 22,
   "id": "9210a2a6",
   "metadata": {},
   "outputs": [
    {
     "name": "stderr",
     "output_type": "stream",
     "text": [
      "                                                                                \r"
     ]
    },
    {
     "data": {
      "image/png": "[encoded data removed]",
      "text/plain": [
       "<Figure size 432x288 with 1 Axes>"
      ]
     },
     "metadata": {
      "needs_background": "light"
     },
     "output_type": "display_data"
    }
   ],
   "source": [
    "processed_data = df.select(\"polarity\").toPandas()\n",
    "\n",
    "plt.hist(processed_data[\"polarity\"], bins=50)\n",
    "plt.xlabel(\"Polarity\")\n",
    "plt.ylabel(\"Frequency\")\n",
    "plt.title(\"Histogram of Polarity (Excluding Neutral Sentiment)\")\n",
    "plt.show()"
   ]
  },
  {
   "cell_type": "code",
   "execution_count": 23,
   "id": "b10d644a",
   "metadata": {},
   "outputs": [
    {
     "name": "stderr",
     "output_type": "stream",
     "text": [
      "                                                                                \r"
     ]
    },
    {
     "data": {
      "image/png": "[encoded data removed]",
      "text/plain": [
       "<Figure size 432x288 with 1 Axes>"
      ]
     },
     "metadata": {
      "needs_background": "light"
     },
     "output_type": "display_data"
    }
   ],
   "source": [
    "processed_data = df.filter(df[\"polarity\"] != 0.0).select(\"polarity\").toPandas()\n",
    "\n",
    "plt.hist(processed_data[\"polarity\"], bins=50)\n",
    "plt.xlabel(\"Polarity\")\n",
    "plt.ylabel(\"Frequency\")\n",
    "plt.title(\"Histogram of Polarity (Excluding Neutral Sentiment)\")\n",
    "plt.show()"
   ]
  },
  {
   "cell_type": "code",
   "execution_count": 24,
   "id": "7df465db",
   "metadata": {},
   "outputs": [],
   "source": [
    "spark.conf.set(\"spark.sql.legacy.timeParserPolicy\", \"LEGACY\")\n",
    "\n",
    "\n",
    "from pyspark.sql.functions import to_timestamp\n",
    "\n",
    "timestamp = to_timestamp(\"Mon Nov 05 20:40:00 2023 PST\", \"EEE MMM dd HH:mm:ss yyyy Z\")\n"
   ]
  },
  {
   "cell_type": "code",
   "execution_count": 25,
   "id": "c57a3413",
   "metadata": {},
   "outputs": [
    {
     "name": "stderr",
     "output_type": "stream",
     "text": [
      "2023-11-13 20:44:33,786 WARN window.WindowExec: No Partition Defined for Window operation! Moving all data to a single partition, this can cause serious performance degradation.\n",
      "[Stage 30:>                                                         (0 + 1) / 1]\r"
     ]
    },
    {
     "name": "stdout",
     "output_type": "stream",
     "text": [
      "+------+--------------------+--------------------+----------+--------------------+-----------+------------+-------------------+\n",
      "|number|                date|        text_cleaned|row_number|           sentiment|   polarity|subjectivity|           new_date|\n",
      "+------+--------------------+--------------------+----------+--------------------+-----------+------------+-------------------+\n",
      "|  8575|Fri Apr 17 20:30:...|working songg aun...|         1|{-0.24583334, 0.5...|-0.24583334|   0.5708333|2009-04-18 04:30:31|\n",
      "|  8576|Fri Apr 17 20:30:...|    sleep 4 30am 8am|         2|          {0.0, 0.0}|        0.0|         0.0|2009-04-18 04:30:34|\n",
      "|  8577|Fri Apr 17 20:30:...|wishing could coa...|         3|         {-0.3, 0.4}|       -0.3|         0.4|2009-04-18 04:30:38|\n",
      "|  8578|Fri Apr 17 20:30:...|well lilwo tough ...|         4|{-0.5515873, 0.84...| -0.5515873|   0.8452381|2009-04-18 04:30:39|\n",
      "|  8579|Fri Apr 17 20:30:...|taking much neede...|         5|{-0.125, 0.41666666}|     -0.125|  0.41666666|2009-04-18 04:30:43|\n",
      "|  8580|Fri Apr 17 20:30:...|aww r cutest thin...|         6|{0.32222223, 0.52...| 0.32222223|   0.5222222|2009-04-18 04:30:44|\n",
      "|  8581|Fri Apr 17 20:30:...|sweet josh work t...|         7|        {0.35, 0.65}|       0.35|        0.65|2009-04-18 04:30:45|\n",
      "|  8582|Fri Apr 17 20:30:...|boyfriend going t...|         8|         {-0.1, 0.7}|       -0.1|         0.7|2009-04-18 04:30:45|\n",
      "|  8585|Fri Apr 17 20:30:...|sorry loss honey ...|         9|         {-0.5, 1.0}|       -0.5|         1.0|2009-04-18 04:30:47|\n",
      "|  8584|Fri Apr 17 20:30:...|losing followers lol|        10|          {0.8, 0.7}|        0.8|         0.7|2009-04-18 04:30:47|\n",
      "|  8586|Fri Apr 17 20:30:...|               tired|        11|         {-0.4, 0.7}|       -0.4|         0.7|2009-04-18 04:30:49|\n",
      "|  8588|Fri Apr 17 20:30:...|misses updating c...|        12|         {-0.5, 1.0}|       -0.5|         1.0|2009-04-18 04:30:49|\n",
      "|  8583|Fri Apr 17 20:30:...|sim see tonight e...|        13|          {0.0, 0.0}|        0.0|         0.0|2009-04-18 04:30:49|\n",
      "|  8587|Fri Apr 17 20:30:...|could go italian ...|        14|{0.0952381, 0.345...|  0.0952381|   0.3452381|2009-04-18 04:30:51|\n",
      "|  8589|Fri Apr 17 20:30:...|getting hair done...|        15|          {0.0, 0.0}|        0.0|         0.0|2009-04-18 04:30:54|\n",
      "|  8591|Fri Apr 17 20:30:...|andi sweetheart r...|        16|{0.13333334, 0.83...| 0.13333334|   0.8333333|2009-04-18 04:30:54|\n",
      "|  8590|Fri Apr 17 20:30:...|bored watching la...|        17|          {0.1, 0.8}|        0.1|         0.8|2009-04-18 04:30:55|\n",
      "|  8592|Fri Apr 17 20:31:...|actually 503 mayb...|        18|          {0.0, 0.1}|        0.0|         0.1|2009-04-18 04:31:04|\n",
      "|  8594|Fri Apr 17 20:31:...|colorado beautifu...|        19|        {0.525, 0.6}|      0.525|         0.6|2009-04-18 04:31:05|\n",
      "|  8593|Fri Apr 17 20:31:...|         oh want one|        20|          {0.0, 0.0}|        0.0|         0.0|2009-04-18 04:31:05|\n",
      "+------+--------------------+--------------------+----------+--------------------+-----------+------------+-------------------+\n",
      "only showing top 20 rows\n",
      "\n"
     ]
    },
    {
     "name": "stderr",
     "output_type": "stream",
     "text": [
      "\r",
      "                                                                                \r"
     ]
    }
   ],
   "source": [
    "from pyspark.sql import functions as F\n",
    "from pyspark.sql.types import TimestampType\n",
    "\n",
    "\n",
    "\n",
    "# Convert the date column to a Timestamp type.\n",
    "df = df.withColumn(\"new_date\", F.to_timestamp(df[\"date\"], \"EEE MMM dd HH:mm:ss z yyyy\"))\n",
    "\n",
    "# Cast the new_date column to a TimestampType.\n",
    "df = df.withColumn(\"new_date\", F.col(\"new_date\").cast(TimestampType()))\n",
    "\n",
    "# Display the DataFrame.\n",
    "df.show()\n"
   ]
  },
  {
   "cell_type": "code",
   "execution_count": 26,
   "id": "13354c3a",
   "metadata": {},
   "outputs": [
    {
     "name": "stderr",
     "output_type": "stream",
     "text": [
      "[Stage 32:====================================================> (194 + 6) / 200]\r"
     ]
    },
    {
     "name": "stdout",
     "output_type": "stream",
     "text": [
      "+------+-------------------+-----------+\n",
      "|number|time               |polarity   |\n",
      "+------+-------------------+-----------+\n",
      "|0     |2009-04-07 06:19:45|0.2        |\n",
      "|1     |2009-04-07 06:19:49|0.0        |\n",
      "|2     |2009-04-07 06:19:53|0.5        |\n",
      "|3     |2009-04-07 06:19:57|0.2        |\n",
      "|4     |2009-04-07 06:19:57|-0.625     |\n",
      "|5     |2009-04-07 06:20:00|0.2        |\n",
      "|7     |2009-04-07 06:20:03|0.34166667 |\n",
      "|6     |2009-04-07 06:20:03|0.0        |\n",
      "|8     |2009-04-07 06:20:05|0.0        |\n",
      "|9     |2009-04-07 06:20:09|0.0        |\n",
      "|10    |2009-04-07 06:20:16|-0.21428572|\n",
      "|11    |2009-04-07 06:20:17|0.0        |\n",
      "|12    |2009-04-07 06:20:19|0.0        |\n",
      "|13    |2009-04-07 06:20:19|0.0        |\n",
      "|14    |2009-04-07 06:20:20|0.225      |\n",
      "|15    |2009-04-07 06:20:20|0.0        |\n",
      "|16    |2009-04-07 06:20:22|0.0        |\n",
      "|17    |2009-04-07 06:20:25|0.0        |\n",
      "|18    |2009-04-07 06:20:31|0.5        |\n",
      "|19    |2009-04-07 06:20:34|0.0        |\n",
      "+------+-------------------+-----------+\n",
      "only showing top 20 rows\n",
      "\n"
     ]
    },
    {
     "name": "stderr",
     "output_type": "stream",
     "text": [
      "\r",
      "[Stage 32:=====================================================>(197 + 3) / 200]\r",
      "\r",
      "                                                                                \r"
     ]
    }
   ],
   "source": [
    "from pyspark.sql import SparkSession\n",
    "from pyspark.sql.functions import col\n",
    "from pyspark.sql.types import TimestampType\n",
    "\n",
    "# SparkSession oluştur\n",
    "spark = SparkSession.builder.appName(\"TwitterDataProcessing\").getOrCreate()\n",
    "\n",
    "\n",
    "# 'new_date' sütununu tarih formatına çevir\n",
    "df = df.withColumn(\"time\", col(\"new_date\").cast(TimestampType()))\n",
    "\n",
    "# Gereksiz sütunları çıkar\n",
    "df = df.select(\"number\", \"time\", \"polarity\")\n",
    "\n",
    "# 'new_date' sütununu çıkar\n",
    "df = df.drop(\"new_date\")\n",
    "\n",
    "# 'time' sütununa göre sırala\n",
    "df = df.orderBy(\"time\")\n",
    "\n",
    "# Sonuçları göster\n",
    "df.show(truncate=False)\n"
   ]
  },
  {
   "cell_type": "markdown",
   "id": "a37642ad",
   "metadata": {},
   "source": [
    "## GENERAL STATS"
   ]
  },
  {
   "cell_type": "code",
   "execution_count": 40,
   "id": "d9837b13",
   "metadata": {},
   "outputs": [
    {
     "name": "stderr",
     "output_type": "stream",
     "text": [
      "[Stage 167:============================================>       (170 + 14) / 200]\r"
     ]
    },
    {
     "name": "stdout",
     "output_type": "stream",
     "text": [
      "+-------+-------------------+\n",
      "|summary|           polarity|\n",
      "+-------+-------------------+\n",
      "|  count|            1009231|\n",
      "|   mean|0.15473822225026185|\n",
      "| stddev|0.41146689531699876|\n",
      "|    min|               -1.0|\n",
      "|    max|                1.0|\n",
      "+-------+-------------------+\n",
      "\n"
     ]
    },
    {
     "name": "stderr",
     "output_type": "stream",
     "text": [
      "\r",
      "[Stage 167:============================================>       (172 + 14) / 200]\r",
      "\r",
      "                                                                                \r"
     ]
    }
   ],
   "source": [
    "from pyspark.sql import SparkSession\n",
    "from pyspark.sql.functions import col\n",
    "\n",
    "# Spark session oluşturun\n",
    "spark = SparkSession.builder.appName(\"PolarityStatistics\").getOrCreate()\n",
    "\n",
    "\n",
    "# \"polarity\" sütununun istatistiklerini alın\n",
    "polarity_stats = df.select(\"polarity\").describe()\n",
    "\n",
    "# İstatistikleri göster\n",
    "polarity_stats.show()\n"
   ]
  },
  {
   "cell_type": "markdown",
   "id": "1ea5a207",
   "metadata": {},
   "source": [
    "## WEEKLY STATS"
   ]
  },
  {
   "cell_type": "code",
   "execution_count": 44,
   "id": "4b4b1a0d",
   "metadata": {},
   "outputs": [
    {
     "name": "stderr",
     "output_type": "stream",
     "text": [
      "                                                                                \r"
     ]
    },
    {
     "name": "stdout",
     "output_type": "stream",
     "text": [
      "+----+--------------------+-------------------+------------+------------+\n",
      "|week|        avg_polarity|    stddev_polarity|min_polarity|max_polarity|\n",
      "+----+--------------------+-------------------+------------+------------+\n",
      "|  26|-0.02259092477635...|0.41635928745817846|        -1.0|         1.0|\n",
      "|  22| 0.19731522201723387|0.39969891013082903|        -1.0|         1.0|\n",
      "|  16| 0.19019950741164576| 0.3996741794212332|        -1.0|         1.0|\n",
      "|  20| 0.18949160371310309| 0.4018749795000749|        -1.0|         1.0|\n",
      "|  19| 0.21109198797026663|0.41549265748561165|        -1.0|         1.0|\n",
      "|  15|  0.1648743543905175| 0.4058568210274852|        -1.0|         1.0|\n",
      "|  17|  0.1831541903268126|0.39946821482880257|        -1.0|         1.0|\n",
      "|  23| 0.18555043359399923|0.40219681814145114|        -1.0|         1.0|\n",
      "|  25| 0.06616442777681182| 0.4204796150735295|        -1.0|         1.0|\n",
      "|  24| 0.18340104883252906|0.40537735570533834|        -1.0|         1.0|\n",
      "|  21| 0.19947944923239774|0.39820281492776133|        -1.0|         1.0|\n",
      "|  18| 0.18567156287730469| 0.4007459983232575|        -1.0|         1.0|\n",
      "+----+--------------------+-------------------+------------+------------+\n",
      "\n"
     ]
    }
   ],
   "source": [
    "from pyspark.sql import SparkSession\n",
    "from pyspark.sql.functions import col, weekofyear, max, min, mean, stddev\n",
    "\n",
    "# Spark session oluşturun\n",
    "spark = SparkSession.builder.appName(\"WeeklyPolarityStatistics\").getOrCreate()\n",
    "\n",
    "\n",
    "# \"time\" sütununu tarih ve hafta numarasına çevirin\n",
    "df = df.withColumn(\"time\", col(\"time\").cast(\"timestamp\"))\n",
    "df = df.withColumn(\"week\", weekofyear(\"time\"))\n",
    "\n",
    "# Haftalık istatistikleri alın\n",
    "weekly_stats = df.groupBy(\"week\").agg(\n",
    "    mean(\"polarity\").alias(\"avg_polarity\"),\n",
    "    stddev(\"polarity\").alias(\"stddev_polarity\"),\n",
    "    min(\"polarity\").alias(\"min_polarity\"),\n",
    "    max(\"polarity\").alias(\"max_polarity\")\n",
    ")\n",
    "\n",
    "# İstatistikleri göster\n",
    "weekly_stats.show()\n"
   ]
  },
  {
   "cell_type": "code",
   "execution_count": 46,
   "id": "5474b61b",
   "metadata": {},
   "outputs": [
    {
     "name": "stderr",
     "output_type": "stream",
     "text": [
      "                                                                                \r"
     ]
    },
    {
     "data": {
      "image/png": "[encoded data removed]",
      "text/plain": [
       "<Figure size 720x432 with 1 Axes>"
      ]
     },
     "metadata": {
      "needs_background": "light"
     },
     "output_type": "display_data"
    }
   ],
   "source": [
    "import matplotlib.pyplot as plt\n",
    "\n",
    "# Spark DataFrame'i week sütununa göre sırala\n",
    "sorted_weekly_stats = weekly_stats.orderBy(\"week\")\n",
    "\n",
    "# Pandas DataFrame'e çevirme\n",
    "pandas_weekly_stats = sorted_weekly_stats.toPandas()\n",
    "\n",
    "# Grafiği çizme\n",
    "plt.figure(figsize=(10, 6))\n",
    "plt.plot(pandas_weekly_stats['week'], pandas_weekly_stats['avg_polarity'], marker='o', linestyle='-')\n",
    "plt.title('Weekly Average Polarity Change')\n",
    "plt.xlabel('Week')\n",
    "plt.ylabel('Average Polarity')\n",
    "plt.grid(True)\n",
    "plt.show()\n"
   ]
  },
  {
   "cell_type": "markdown",
   "id": "b93d02a2",
   "metadata": {},
   "source": [
    "## FORECAST"
   ]
  },
  {
   "cell_type": "code",
   "execution_count": 63,
   "id": "f16f6814",
   "metadata": {},
   "outputs": [
    {
     "name": "stderr",
     "output_type": "stream",
     "text": [
      "                                                                                \r"
     ]
    },
    {
     "name": "stdout",
     "output_type": "stream",
     "text": [
      "        date   number  predicted_polarity\n",
      "0 2009-06-25  1600000            0.395994\n",
      "1 2009-06-26  1600001            0.395995\n",
      "2 2009-06-27  1600002            0.395995\n",
      "3 2009-06-28  1600003            0.395995\n",
      "4 2009-06-29  1600004            0.395996\n",
      "5 2009-06-30  1600005            0.395996\n",
      "6 2009-07-01  1600006            0.395996\n"
     ]
    }
   ],
   "source": [
    "import pandas as pd\n",
    "import numpy as np\n",
    "import statsmodels.api as sm\n",
    "from pyspark.sql import SparkSession\n",
    "\n",
    "\n",
    "# PySpark DataFrame'ini Pandas DataFrame'ine dönüştür\n",
    "df_pandas = df.toPandas()\n",
    "\n",
    "# Regresyon modelini oluştur\n",
    "X = sm.add_constant(df_pandas['number'])\n",
    "y = df_pandas['polarity']\n",
    "model = sm.OLS(y, X).fit()\n",
    "\n",
    "# Gelecek 1 haftalık tahminleri yap\n",
    "future_numbers = np.arange(df_pandas['number'].max() + 1, df_pandas['number'].max() + 8)\n",
    "future_X = sm.add_constant(future_numbers)\n",
    "\n",
    "future_predictions = model.predict(future_X)\n",
    "future_dates = pd.date_range(start=df_pandas['date'].max(), periods=7, freq='D')\n",
    "future_df = pd.DataFrame({'date': future_dates, 'number': future_numbers, 'predicted_polarity': future_predictions})\n",
    "\n",
    "# Tahmin sonuçlarını göster\n",
    "print(future_df)\n"
   ]
  },
  {
   "cell_type": "markdown",
   "id": "3dc4be72",
   "metadata": {},
   "source": [
    "## INTERACTIVE DASHBOARD"
   ]
  },
  {
   "cell_type": "markdown",
   "id": "c1f631cc",
   "metadata": {},
   "source": [
    "from pyspark.sql import SparkSession\n",
    "from pyspark.sql.functions import col, to_date\n",
    "from pyspark.sql.window import Window\n",
    "from pyspark.sql import functions as F\n",
    "import plotly.express as px\n",
    "import dash\n",
    "from dash import dcc, html\n",
    "\n",
    "# SparkSession oluştur\n",
    "spark = SparkSession.builder.appName(\"TwitterDataProcessing\").getOrCreate()\n",
    "\n",
    "# 'time' sütununu Timestamp türüne dönüştür\n",
    "df = df.withColumn(\"time\", col(\"time\").cast(TimestampType()))\n",
    "\n",
    "# Polarity değeri 0 olan satırları filtrele\n",
    "df0 = df.filter(col(\"polarity\") != 0)\n",
    "\n",
    "# Günlük ortalamaları hesapla\n",
    "df0 = df.withColumn(\"date\", to_date(\"time\"))\n",
    "windowSpec = Window.partitionBy(\"date\")\n",
    "\n",
    "# Plotly Express kullanarak çizgi grafiği oluştur\n",
    "fig = px.line(df0.toPandas(), x=\"date\", y=\"polarity\", title=\"Date X Polarity\", line_shape=\"linear\", color_discrete_sequence=['blue'])\n",
    "\n",
    "# Dash uygulamasını başlat\n",
    "app = dash.Dash(__name__)\n",
    "\n",
    "# Dashboard layout\n",
    "app.layout = html.Div(children=[\n",
    "    dcc.Graph(id='line-chart', figure=fig)\n",
    "])\n",
    "\n",
    "# Uygulamayı çalıştır\n",
    "if __name__ == '__main__':\n",
    "    app.run_server(debug=True)\n"
   ]
  },
  {
   "cell_type": "code",
   "execution_count": 27,
   "id": "9b15b2ca",
   "metadata": {},
   "outputs": [],
   "source": [
    "spark.conf.set(\"spark.sql.legacy.timeParserPolicy\", \"LEGACY\")\n",
    "spark.conf.set(\"spark.sql.session.timeZone\", \"UTC\")\n"
   ]
  },
  {
   "cell_type": "code",
   "execution_count": 28,
   "id": "14dd0f01",
   "metadata": {},
   "outputs": [
    {
     "name": "stderr",
     "output_type": "stream",
     "text": [
      "                                                                                \r"
     ]
    },
    {
     "name": "stdout",
     "output_type": "stream",
     "text": [
      "+-------+------+\n",
      "|   week| count|\n",
      "+-------+------+\n",
      "|2009-15| 20671|\n",
      "|2009-16| 17154|\n",
      "|2009-17| 62200|\n",
      "|2009-18| 31096|\n",
      "|2009-19| 54868|\n",
      "|2009-20| 63480|\n",
      "|2009-21|126975|\n",
      "|2009-22|176668|\n",
      "|2009-23|483516|\n",
      "|2009-24|130459|\n",
      "|2009-25|347232|\n",
      "|2009-26| 85681|\n",
      "+-------+------+\n",
      "\n"
     ]
    },
    {
     "name": "stderr",
     "output_type": "stream",
     "text": [
      "                                                                                \r"
     ]
    },
    {
     "data": {
      "image/png": "[encoded data removed]",
      "text/plain": [
       "<Figure size 864x432 with 1 Axes>"
      ]
     },
     "metadata": {
      "needs_background": "light"
     },
     "output_type": "display_data"
    }
   ],
   "source": [
    "import matplotlib.pyplot as plt\n",
    "from pyspark.sql.functions import date_format\n",
    "\n",
    "# 1-Week Analysis\n",
    "weekly_data = df.groupBy(date_format(\"time\", \"yyyy-ww\")).count()\n",
    "weekly_data = weekly_data.withColumnRenamed(\"date_format(time, yyyy-ww)\", \"week\")\n",
    "weekly_data = weekly_data.orderBy(\"week\", ascending=True)\n",
    "weekly_data.show()\n",
    "\n",
    "# Get the result and visualize it\n",
    "weekly_data_pd = weekly_data.toPandas()\n",
    "\n",
    "# Plot for 1-Week Time Series\n",
    "plt.figure(figsize=(12, 6))\n",
    "plt.bar(weekly_data_pd[\"week\"], weekly_data_pd[\"count\"], width=0.5)\n",
    "plt.title(\"Weekly Tweet Count\")\n",
    "plt.xlabel(\"Week\")\n",
    "plt.ylabel(\"Tweet Count\")\n",
    "plt.xticks(rotation=45)\n",
    "plt.show()\n"
   ]
  },
  {
   "cell_type": "markdown",
   "id": "e401a2a7",
   "metadata": {},
   "source": [
    "#  CALISAN KISIM\n",
    "\n",
    "from pyspark.sql import SparkSession\n",
    "from pyspark.sql.functions import col, window\n",
    "from pyspark.sql.window import Window\n",
    "\n",
    "# Spark oturumu oluştur\n",
    "spark = SparkSession.builder.appName(\"TimeSeriesAnalysis\").getOrCreate()\n",
    "\n",
    "# Tarih sütununu zaman damgasına dönüştür\n",
    "\n",
    "df = df.withColumn(\"new_date\", col(\"new_date\").cast(\"timestamp\"))\n",
    "\n",
    "# 1 haftalık zaman serisi\n",
    "weekly_series = df.groupBy(window(\"new_date\", \"1 week\")).count()\n",
    "weekly_series.show(truncate=False)\n",
    "\n",
    "# 1 aylık zaman serisi (30 gün olarak hesaplanır)\n",
    "monthly_series = df.groupBy(window(\"new_date\", \"30 days\")).count()\n",
    "monthly_series.show(truncate=False)\n",
    "\n",
    "# 3 aylık zaman serisi (90 gün olarak hesaplanır)\n",
    "quarterly_series = df.groupBy(window(\"new_date\", \"90 days\")).count()\n",
    "quarterly_series.show(truncate=False)\n",
    "\n",
    "# Spark oturumunu kapat\n",
    "spark.stop()\n"
   ]
  },
  {
   "cell_type": "markdown",
   "id": "9e80c971",
   "metadata": {},
   "source": [
    "import dash\n",
    "from dash import dcc, html\n",
    "import plotly.express as px\n",
    "import pandas as pd\n",
    "\n",
    "from pyspark.sql import SparkSession\n",
    "\n",
    "# SparkSession oluştur\n",
    "spark = SparkSession.builder.appName(\"example\").getOrCreate()\n",
    "\n",
    "\n",
    "# Spark DataFrame'ini Pandas DataFrame'e dönüştür\n",
    "df_pandas = df.toPandas()\n",
    "\n",
    "# Dash uygulamasını oluştur\n",
    "app = dash.Dash(__name__)\n",
    "\n",
    "# Dashboard düzenini oluştur\n",
    "app.layout = html.Div(children=[\n",
    "    html.H1(children='Sentiment Analysis Dashboard'),\n",
    "\n",
    "    dcc.Graph(\n",
    "        id='sentiment-graph',\n",
    "        figure=px.line(df_pandas, x='new_date', y='polarity', title='Polarity Change Over Time')\n",
    "    )\n",
    "])\n",
    "\n",
    "# Uygulamayı çalıştır\n",
    "if __name__ == '__main__':\n",
    "    app.run_server(debug=True)\n"
   ]
  },
  {
   "cell_type": "code",
   "execution_count": null,
   "id": "6ac9be7a",
   "metadata": {},
   "outputs": [],
   "source": []
  }
 ],
 "metadata": {
  "kernelspec": {
   "display_name": "Python 3 (ipykernel)",
   "language": "python",
   "name": "python3"
  },
  "language_info": {
   "codemirror_mode": {
    "name": "ipython",
    "version": 3
   },
   "file_extension": ".py",
   "mimetype": "text/x-python",
   "name": "python",
   "nbconvert_exporter": "python",
   "pygments_lexer": "ipython3",
   "version": "3.10.12"
  }
 },
 "nbformat": 4,
 "nbformat_minor": 5
}
